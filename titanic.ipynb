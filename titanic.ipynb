{
 "cells": [
  {
   "cell_type": "code",
   "execution_count": 1,
   "id": "1f513aed",
   "metadata": {
    "_cell_guid": "b1076dfc-b9ad-4769-8c92-a6c4dae69d19",
    "_uuid": "8f2839f25d086af736a60e9eeb907d3b93b6e0e5",
    "execution": {
     "iopub.execute_input": "2023-08-01T15:01:25.443094Z",
     "iopub.status.busy": "2023-08-01T15:01:25.442490Z",
     "iopub.status.idle": "2023-08-01T15:01:25.458042Z",
     "shell.execute_reply": "2023-08-01T15:01:25.456844Z"
    },
    "papermill": {
     "duration": 0.037616,
     "end_time": "2023-08-01T15:01:25.461333",
     "exception": false,
     "start_time": "2023-08-01T15:01:25.423717",
     "status": "completed"
    },
    "tags": []
   },
   "outputs": [],
   "source": [
    "import numpy as np\n",
    "import pandas as pd\n",
    "import os"
   ]
  },
  {
   "cell_type": "code",
   "execution_count": 2,
   "id": "858498a5",
   "metadata": {
    "execution": {
     "iopub.execute_input": "2023-08-01T15:01:25.493163Z",
     "iopub.status.busy": "2023-08-01T15:01:25.492322Z",
     "iopub.status.idle": "2023-08-01T15:01:25.528195Z",
     "shell.execute_reply": "2023-08-01T15:01:25.526640Z"
    },
    "papermill": {
     "duration": 0.056403,
     "end_time": "2023-08-01T15:01:25.531611",
     "exception": false,
     "start_time": "2023-08-01T15:01:25.475208",
     "status": "completed"
    },
    "tags": []
   },
   "outputs": [],
   "source": [
    "train_df = pd.read_csv('/kaggle/input/titanic/train.csv')\n",
    "test_df = pd.read_csv('/kaggle/input/titanic/test.csv')"
   ]
  },
  {
   "cell_type": "code",
   "execution_count": 3,
   "id": "d74a9e87",
   "metadata": {
    "execution": {
     "iopub.execute_input": "2023-08-01T15:01:25.562155Z",
     "iopub.status.busy": "2023-08-01T15:01:25.560745Z",
     "iopub.status.idle": "2023-08-01T15:01:25.599353Z",
     "shell.execute_reply": "2023-08-01T15:01:25.597899Z"
    },
    "papermill": {
     "duration": 0.056859,
     "end_time": "2023-08-01T15:01:25.602299",
     "exception": false,
     "start_time": "2023-08-01T15:01:25.545440",
     "status": "completed"
    },
    "tags": []
   },
   "outputs": [
    {
     "name": "stdout",
     "output_type": "stream",
     "text": [
      "<class 'pandas.core.frame.DataFrame'>\n",
      "RangeIndex: 418 entries, 0 to 417\n",
      "Data columns (total 11 columns):\n",
      " #   Column       Non-Null Count  Dtype  \n",
      "---  ------       --------------  -----  \n",
      " 0   PassengerId  418 non-null    int64  \n",
      " 1   Pclass       418 non-null    int64  \n",
      " 2   Name         418 non-null    object \n",
      " 3   Sex          418 non-null    object \n",
      " 4   Age          332 non-null    float64\n",
      " 5   SibSp        418 non-null    int64  \n",
      " 6   Parch        418 non-null    int64  \n",
      " 7   Ticket       418 non-null    object \n",
      " 8   Fare         417 non-null    float64\n",
      " 9   Cabin        91 non-null     object \n",
      " 10  Embarked     418 non-null    object \n",
      "dtypes: float64(2), int64(4), object(5)\n",
      "memory usage: 36.0+ KB\n"
     ]
    }
   ],
   "source": [
    "test_df.info()"
   ]
  },
  {
   "cell_type": "code",
   "execution_count": 4,
   "id": "41b0c80f",
   "metadata": {
    "execution": {
     "iopub.execute_input": "2023-08-01T15:01:25.630477Z",
     "iopub.status.busy": "2023-08-01T15:01:25.630058Z",
     "iopub.status.idle": "2023-08-01T15:01:25.656050Z",
     "shell.execute_reply": "2023-08-01T15:01:25.654672Z"
    },
    "papermill": {
     "duration": 0.04345,
     "end_time": "2023-08-01T15:01:25.658847",
     "exception": false,
     "start_time": "2023-08-01T15:01:25.615397",
     "status": "completed"
    },
    "tags": []
   },
   "outputs": [
    {
     "data": {
      "text/html": [
       "<div>\n",
       "<style scoped>\n",
       "    .dataframe tbody tr th:only-of-type {\n",
       "        vertical-align: middle;\n",
       "    }\n",
       "\n",
       "    .dataframe tbody tr th {\n",
       "        vertical-align: top;\n",
       "    }\n",
       "\n",
       "    .dataframe thead th {\n",
       "        text-align: right;\n",
       "    }\n",
       "</style>\n",
       "<table border=\"1\" class=\"dataframe\">\n",
       "  <thead>\n",
       "    <tr style=\"text-align: right;\">\n",
       "      <th></th>\n",
       "      <th>PassengerId</th>\n",
       "      <th>Survived</th>\n",
       "      <th>Pclass</th>\n",
       "      <th>Name</th>\n",
       "      <th>Sex</th>\n",
       "      <th>Age</th>\n",
       "      <th>SibSp</th>\n",
       "      <th>Parch</th>\n",
       "      <th>Ticket</th>\n",
       "      <th>Fare</th>\n",
       "      <th>Cabin</th>\n",
       "      <th>Embarked</th>\n",
       "    </tr>\n",
       "  </thead>\n",
       "  <tbody>\n",
       "    <tr>\n",
       "      <th>0</th>\n",
       "      <td>1</td>\n",
       "      <td>0</td>\n",
       "      <td>3</td>\n",
       "      <td>Braund, Mr. Owen Harris</td>\n",
       "      <td>male</td>\n",
       "      <td>22.0</td>\n",
       "      <td>1</td>\n",
       "      <td>0</td>\n",
       "      <td>A/5 21171</td>\n",
       "      <td>7.2500</td>\n",
       "      <td>NaN</td>\n",
       "      <td>S</td>\n",
       "    </tr>\n",
       "    <tr>\n",
       "      <th>1</th>\n",
       "      <td>2</td>\n",
       "      <td>1</td>\n",
       "      <td>1</td>\n",
       "      <td>Cumings, Mrs. John Bradley (Florence Briggs Th...</td>\n",
       "      <td>female</td>\n",
       "      <td>38.0</td>\n",
       "      <td>1</td>\n",
       "      <td>0</td>\n",
       "      <td>PC 17599</td>\n",
       "      <td>71.2833</td>\n",
       "      <td>C85</td>\n",
       "      <td>C</td>\n",
       "    </tr>\n",
       "    <tr>\n",
       "      <th>2</th>\n",
       "      <td>3</td>\n",
       "      <td>1</td>\n",
       "      <td>3</td>\n",
       "      <td>Heikkinen, Miss. Laina</td>\n",
       "      <td>female</td>\n",
       "      <td>26.0</td>\n",
       "      <td>0</td>\n",
       "      <td>0</td>\n",
       "      <td>STON/O2. 3101282</td>\n",
       "      <td>7.9250</td>\n",
       "      <td>NaN</td>\n",
       "      <td>S</td>\n",
       "    </tr>\n",
       "    <tr>\n",
       "      <th>3</th>\n",
       "      <td>4</td>\n",
       "      <td>1</td>\n",
       "      <td>1</td>\n",
       "      <td>Futrelle, Mrs. Jacques Heath (Lily May Peel)</td>\n",
       "      <td>female</td>\n",
       "      <td>35.0</td>\n",
       "      <td>1</td>\n",
       "      <td>0</td>\n",
       "      <td>113803</td>\n",
       "      <td>53.1000</td>\n",
       "      <td>C123</td>\n",
       "      <td>S</td>\n",
       "    </tr>\n",
       "    <tr>\n",
       "      <th>4</th>\n",
       "      <td>5</td>\n",
       "      <td>0</td>\n",
       "      <td>3</td>\n",
       "      <td>Allen, Mr. William Henry</td>\n",
       "      <td>male</td>\n",
       "      <td>35.0</td>\n",
       "      <td>0</td>\n",
       "      <td>0</td>\n",
       "      <td>373450</td>\n",
       "      <td>8.0500</td>\n",
       "      <td>NaN</td>\n",
       "      <td>S</td>\n",
       "    </tr>\n",
       "  </tbody>\n",
       "</table>\n",
       "</div>"
      ],
      "text/plain": [
       "   PassengerId  Survived  Pclass  \\\n",
       "0            1         0       3   \n",
       "1            2         1       1   \n",
       "2            3         1       3   \n",
       "3            4         1       1   \n",
       "4            5         0       3   \n",
       "\n",
       "                                                Name     Sex   Age  SibSp  \\\n",
       "0                            Braund, Mr. Owen Harris    male  22.0      1   \n",
       "1  Cumings, Mrs. John Bradley (Florence Briggs Th...  female  38.0      1   \n",
       "2                             Heikkinen, Miss. Laina  female  26.0      0   \n",
       "3       Futrelle, Mrs. Jacques Heath (Lily May Peel)  female  35.0      1   \n",
       "4                           Allen, Mr. William Henry    male  35.0      0   \n",
       "\n",
       "   Parch            Ticket     Fare Cabin Embarked  \n",
       "0      0         A/5 21171   7.2500   NaN        S  \n",
       "1      0          PC 17599  71.2833   C85        C  \n",
       "2      0  STON/O2. 3101282   7.9250   NaN        S  \n",
       "3      0            113803  53.1000  C123        S  \n",
       "4      0            373450   8.0500   NaN        S  "
      ]
     },
     "execution_count": 4,
     "metadata": {},
     "output_type": "execute_result"
    }
   ],
   "source": [
    "train_df.head()"
   ]
  },
  {
   "cell_type": "code",
   "execution_count": 5,
   "id": "27308f00",
   "metadata": {
    "execution": {
     "iopub.execute_input": "2023-08-01T15:01:25.688201Z",
     "iopub.status.busy": "2023-08-01T15:01:25.687744Z",
     "iopub.status.idle": "2023-08-01T15:01:25.729973Z",
     "shell.execute_reply": "2023-08-01T15:01:25.727772Z"
    },
    "papermill": {
     "duration": 0.060885,
     "end_time": "2023-08-01T15:01:25.733467",
     "exception": false,
     "start_time": "2023-08-01T15:01:25.672582",
     "status": "completed"
    },
    "tags": []
   },
   "outputs": [
    {
     "data": {
      "text/html": [
       "<div>\n",
       "<style scoped>\n",
       "    .dataframe tbody tr th:only-of-type {\n",
       "        vertical-align: middle;\n",
       "    }\n",
       "\n",
       "    .dataframe tbody tr th {\n",
       "        vertical-align: top;\n",
       "    }\n",
       "\n",
       "    .dataframe thead th {\n",
       "        text-align: right;\n",
       "    }\n",
       "</style>\n",
       "<table border=\"1\" class=\"dataframe\">\n",
       "  <thead>\n",
       "    <tr style=\"text-align: right;\">\n",
       "      <th></th>\n",
       "      <th>PassengerId</th>\n",
       "      <th>Survived</th>\n",
       "      <th>Pclass</th>\n",
       "      <th>Age</th>\n",
       "      <th>SibSp</th>\n",
       "      <th>Parch</th>\n",
       "      <th>Fare</th>\n",
       "    </tr>\n",
       "  </thead>\n",
       "  <tbody>\n",
       "    <tr>\n",
       "      <th>count</th>\n",
       "      <td>891.000000</td>\n",
       "      <td>891.000000</td>\n",
       "      <td>891.000000</td>\n",
       "      <td>714.000000</td>\n",
       "      <td>891.000000</td>\n",
       "      <td>891.000000</td>\n",
       "      <td>891.000000</td>\n",
       "    </tr>\n",
       "    <tr>\n",
       "      <th>mean</th>\n",
       "      <td>446.000000</td>\n",
       "      <td>0.383838</td>\n",
       "      <td>2.308642</td>\n",
       "      <td>29.699118</td>\n",
       "      <td>0.523008</td>\n",
       "      <td>0.381594</td>\n",
       "      <td>32.204208</td>\n",
       "    </tr>\n",
       "    <tr>\n",
       "      <th>std</th>\n",
       "      <td>257.353842</td>\n",
       "      <td>0.486592</td>\n",
       "      <td>0.836071</td>\n",
       "      <td>14.526497</td>\n",
       "      <td>1.102743</td>\n",
       "      <td>0.806057</td>\n",
       "      <td>49.693429</td>\n",
       "    </tr>\n",
       "    <tr>\n",
       "      <th>min</th>\n",
       "      <td>1.000000</td>\n",
       "      <td>0.000000</td>\n",
       "      <td>1.000000</td>\n",
       "      <td>0.420000</td>\n",
       "      <td>0.000000</td>\n",
       "      <td>0.000000</td>\n",
       "      <td>0.000000</td>\n",
       "    </tr>\n",
       "    <tr>\n",
       "      <th>25%</th>\n",
       "      <td>223.500000</td>\n",
       "      <td>0.000000</td>\n",
       "      <td>2.000000</td>\n",
       "      <td>20.125000</td>\n",
       "      <td>0.000000</td>\n",
       "      <td>0.000000</td>\n",
       "      <td>7.910400</td>\n",
       "    </tr>\n",
       "    <tr>\n",
       "      <th>50%</th>\n",
       "      <td>446.000000</td>\n",
       "      <td>0.000000</td>\n",
       "      <td>3.000000</td>\n",
       "      <td>28.000000</td>\n",
       "      <td>0.000000</td>\n",
       "      <td>0.000000</td>\n",
       "      <td>14.454200</td>\n",
       "    </tr>\n",
       "    <tr>\n",
       "      <th>75%</th>\n",
       "      <td>668.500000</td>\n",
       "      <td>1.000000</td>\n",
       "      <td>3.000000</td>\n",
       "      <td>38.000000</td>\n",
       "      <td>1.000000</td>\n",
       "      <td>0.000000</td>\n",
       "      <td>31.000000</td>\n",
       "    </tr>\n",
       "    <tr>\n",
       "      <th>max</th>\n",
       "      <td>891.000000</td>\n",
       "      <td>1.000000</td>\n",
       "      <td>3.000000</td>\n",
       "      <td>80.000000</td>\n",
       "      <td>8.000000</td>\n",
       "      <td>6.000000</td>\n",
       "      <td>512.329200</td>\n",
       "    </tr>\n",
       "  </tbody>\n",
       "</table>\n",
       "</div>"
      ],
      "text/plain": [
       "       PassengerId    Survived      Pclass         Age       SibSp  \\\n",
       "count   891.000000  891.000000  891.000000  714.000000  891.000000   \n",
       "mean    446.000000    0.383838    2.308642   29.699118    0.523008   \n",
       "std     257.353842    0.486592    0.836071   14.526497    1.102743   \n",
       "min       1.000000    0.000000    1.000000    0.420000    0.000000   \n",
       "25%     223.500000    0.000000    2.000000   20.125000    0.000000   \n",
       "50%     446.000000    0.000000    3.000000   28.000000    0.000000   \n",
       "75%     668.500000    1.000000    3.000000   38.000000    1.000000   \n",
       "max     891.000000    1.000000    3.000000   80.000000    8.000000   \n",
       "\n",
       "            Parch        Fare  \n",
       "count  891.000000  891.000000  \n",
       "mean     0.381594   32.204208  \n",
       "std      0.806057   49.693429  \n",
       "min      0.000000    0.000000  \n",
       "25%      0.000000    7.910400  \n",
       "50%      0.000000   14.454200  \n",
       "75%      0.000000   31.000000  \n",
       "max      6.000000  512.329200  "
      ]
     },
     "execution_count": 5,
     "metadata": {},
     "output_type": "execute_result"
    }
   ],
   "source": [
    "train_df.describe()"
   ]
  },
  {
   "cell_type": "code",
   "execution_count": 6,
   "id": "497fe29a",
   "metadata": {
    "execution": {
     "iopub.execute_input": "2023-08-01T15:01:25.764741Z",
     "iopub.status.busy": "2023-08-01T15:01:25.764279Z",
     "iopub.status.idle": "2023-08-01T15:01:25.781718Z",
     "shell.execute_reply": "2023-08-01T15:01:25.779480Z"
    },
    "papermill": {
     "duration": 0.036711,
     "end_time": "2023-08-01T15:01:25.784659",
     "exception": false,
     "start_time": "2023-08-01T15:01:25.747948",
     "status": "completed"
    },
    "tags": []
   },
   "outputs": [
    {
     "name": "stdout",
     "output_type": "stream",
     "text": [
      "<class 'pandas.core.frame.DataFrame'>\n",
      "RangeIndex: 891 entries, 0 to 890\n",
      "Data columns (total 12 columns):\n",
      " #   Column       Non-Null Count  Dtype  \n",
      "---  ------       --------------  -----  \n",
      " 0   PassengerId  891 non-null    int64  \n",
      " 1   Survived     891 non-null    int64  \n",
      " 2   Pclass       891 non-null    int64  \n",
      " 3   Name         891 non-null    object \n",
      " 4   Sex          891 non-null    object \n",
      " 5   Age          714 non-null    float64\n",
      " 6   SibSp        891 non-null    int64  \n",
      " 7   Parch        891 non-null    int64  \n",
      " 8   Ticket       891 non-null    object \n",
      " 9   Fare         891 non-null    float64\n",
      " 10  Cabin        204 non-null    object \n",
      " 11  Embarked     889 non-null    object \n",
      "dtypes: float64(2), int64(5), object(5)\n",
      "memory usage: 83.7+ KB\n"
     ]
    }
   ],
   "source": [
    "train_df.info()"
   ]
  },
  {
   "cell_type": "code",
   "execution_count": 7,
   "id": "739e1ab9",
   "metadata": {
    "execution": {
     "iopub.execute_input": "2023-08-01T15:01:25.816130Z",
     "iopub.status.busy": "2023-08-01T15:01:25.814675Z",
     "iopub.status.idle": "2023-08-01T15:01:25.835086Z",
     "shell.execute_reply": "2023-08-01T15:01:25.833376Z"
    },
    "papermill": {
     "duration": 0.03916,
     "end_time": "2023-08-01T15:01:25.837938",
     "exception": false,
     "start_time": "2023-08-01T15:01:25.798778",
     "status": "completed"
    },
    "tags": []
   },
   "outputs": [
    {
     "name": "stdout",
     "output_type": "stream",
     "text": [
      "<class 'pandas.core.frame.DataFrame'>\n",
      "RangeIndex: 891 entries, 0 to 890\n",
      "Data columns (total 10 columns):\n",
      " #   Column       Non-Null Count  Dtype  \n",
      "---  ------       --------------  -----  \n",
      " 0   PassengerId  891 non-null    int64  \n",
      " 1   Survived     891 non-null    int64  \n",
      " 2   Pclass       891 non-null    int64  \n",
      " 3   Sex          891 non-null    object \n",
      " 4   Age          714 non-null    float64\n",
      " 5   SibSp        891 non-null    int64  \n",
      " 6   Parch        891 non-null    int64  \n",
      " 7   Ticket       891 non-null    object \n",
      " 8   Fare         891 non-null    float64\n",
      " 9   Embarked     889 non-null    object \n",
      "dtypes: float64(2), int64(5), object(3)\n",
      "memory usage: 69.7+ KB\n"
     ]
    }
   ],
   "source": [
    "train_df = train_df.drop('Cabin', axis=1)\n",
    "train_df = train_df.drop('Name', axis=1)\n",
    "train_df.info()"
   ]
  },
  {
   "cell_type": "code",
   "execution_count": 8,
   "id": "a6b37446",
   "metadata": {
    "execution": {
     "iopub.execute_input": "2023-08-01T15:01:25.868977Z",
     "iopub.status.busy": "2023-08-01T15:01:25.867878Z",
     "iopub.status.idle": "2023-08-01T15:01:25.888886Z",
     "shell.execute_reply": "2023-08-01T15:01:25.887162Z"
    },
    "papermill": {
     "duration": 0.039665,
     "end_time": "2023-08-01T15:01:25.891859",
     "exception": false,
     "start_time": "2023-08-01T15:01:25.852194",
     "status": "completed"
    },
    "tags": []
   },
   "outputs": [
    {
     "name": "stdout",
     "output_type": "stream",
     "text": [
      "<class 'pandas.core.frame.DataFrame'>\n",
      "Int64Index: 889 entries, 0 to 890\n",
      "Data columns (total 10 columns):\n",
      " #   Column       Non-Null Count  Dtype  \n",
      "---  ------       --------------  -----  \n",
      " 0   PassengerId  889 non-null    int64  \n",
      " 1   Survived     889 non-null    int64  \n",
      " 2   Pclass       889 non-null    int64  \n",
      " 3   Sex          889 non-null    object \n",
      " 4   Age          889 non-null    float64\n",
      " 5   SibSp        889 non-null    int64  \n",
      " 6   Parch        889 non-null    int64  \n",
      " 7   Ticket       889 non-null    object \n",
      " 8   Fare         889 non-null    float64\n",
      " 9   Embarked     889 non-null    object \n",
      "dtypes: float64(2), int64(5), object(3)\n",
      "memory usage: 76.4+ KB\n"
     ]
    }
   ],
   "source": [
    "mean = train_df['Age'].mean()\n",
    "train_df['Age'].fillna(mean, inplace=True)\n",
    "train_df.dropna(inplace=True)\n",
    "train_df.info()"
   ]
  },
  {
   "cell_type": "code",
   "execution_count": 9,
   "id": "abbec2cc",
   "metadata": {
    "execution": {
     "iopub.execute_input": "2023-08-01T15:01:25.923747Z",
     "iopub.status.busy": "2023-08-01T15:01:25.922105Z",
     "iopub.status.idle": "2023-08-01T15:01:25.930190Z",
     "shell.execute_reply": "2023-08-01T15:01:25.929201Z"
    },
    "papermill": {
     "duration": 0.026531,
     "end_time": "2023-08-01T15:01:25.932858",
     "exception": false,
     "start_time": "2023-08-01T15:01:25.906327",
     "status": "completed"
    },
    "tags": []
   },
   "outputs": [],
   "source": [
    "test_df = test_df.drop('Cabin', axis=1)\n",
    "test_df = test_df.drop('Name', axis=1)"
   ]
  },
  {
   "cell_type": "code",
   "execution_count": 10,
   "id": "68f9dd97",
   "metadata": {
    "execution": {
     "iopub.execute_input": "2023-08-01T15:01:25.963657Z",
     "iopub.status.busy": "2023-08-01T15:01:25.962226Z",
     "iopub.status.idle": "2023-08-01T15:01:25.970936Z",
     "shell.execute_reply": "2023-08-01T15:01:25.969899Z"
    },
    "papermill": {
     "duration": 0.026616,
     "end_time": "2023-08-01T15:01:25.973256",
     "exception": false,
     "start_time": "2023-08-01T15:01:25.946640",
     "status": "completed"
    },
    "tags": []
   },
   "outputs": [],
   "source": [
    "mean_age = test_df['Age'].mean()\n",
    "mean_fare = test_df['Fare'].mean()\n",
    "test_df['Fare'].fillna(mean_fare, inplace=True)\n",
    "test_df['Age'].fillna(mean_age, inplace=True)"
   ]
  },
  {
   "cell_type": "code",
   "execution_count": 11,
   "id": "50a40e87",
   "metadata": {
    "execution": {
     "iopub.execute_input": "2023-08-01T15:01:26.004127Z",
     "iopub.status.busy": "2023-08-01T15:01:26.002774Z",
     "iopub.status.idle": "2023-08-01T15:01:26.017876Z",
     "shell.execute_reply": "2023-08-01T15:01:26.016536Z"
    },
    "papermill": {
     "duration": 0.033491,
     "end_time": "2023-08-01T15:01:26.020451",
     "exception": false,
     "start_time": "2023-08-01T15:01:25.986960",
     "status": "completed"
    },
    "tags": []
   },
   "outputs": [
    {
     "name": "stdout",
     "output_type": "stream",
     "text": [
      "<class 'pandas.core.frame.DataFrame'>\n",
      "RangeIndex: 418 entries, 0 to 417\n",
      "Data columns (total 9 columns):\n",
      " #   Column       Non-Null Count  Dtype  \n",
      "---  ------       --------------  -----  \n",
      " 0   PassengerId  418 non-null    int64  \n",
      " 1   Pclass       418 non-null    int64  \n",
      " 2   Sex          418 non-null    object \n",
      " 3   Age          418 non-null    float64\n",
      " 4   SibSp        418 non-null    int64  \n",
      " 5   Parch        418 non-null    int64  \n",
      " 6   Ticket       418 non-null    object \n",
      " 7   Fare         418 non-null    float64\n",
      " 8   Embarked     418 non-null    object \n",
      "dtypes: float64(2), int64(4), object(3)\n",
      "memory usage: 29.5+ KB\n"
     ]
    }
   ],
   "source": [
    "test_df.info()"
   ]
  },
  {
   "cell_type": "code",
   "execution_count": 12,
   "id": "88c36ea4",
   "metadata": {
    "execution": {
     "iopub.execute_input": "2023-08-01T15:01:26.051187Z",
     "iopub.status.busy": "2023-08-01T15:01:26.050675Z",
     "iopub.status.idle": "2023-08-01T15:01:26.080364Z",
     "shell.execute_reply": "2023-08-01T15:01:26.079307Z"
    },
    "papermill": {
     "duration": 0.047737,
     "end_time": "2023-08-01T15:01:26.082545",
     "exception": false,
     "start_time": "2023-08-01T15:01:26.034808",
     "status": "completed"
    },
    "tags": []
   },
   "outputs": [
    {
     "data": {
      "text/html": [
       "<div>\n",
       "<style scoped>\n",
       "    .dataframe tbody tr th:only-of-type {\n",
       "        vertical-align: middle;\n",
       "    }\n",
       "\n",
       "    .dataframe tbody tr th {\n",
       "        vertical-align: top;\n",
       "    }\n",
       "\n",
       "    .dataframe thead th {\n",
       "        text-align: right;\n",
       "    }\n",
       "</style>\n",
       "<table border=\"1\" class=\"dataframe\">\n",
       "  <thead>\n",
       "    <tr style=\"text-align: right;\">\n",
       "      <th></th>\n",
       "      <th>PassengerId</th>\n",
       "      <th>Survived</th>\n",
       "      <th>Pclass</th>\n",
       "      <th>Sex</th>\n",
       "      <th>Age</th>\n",
       "      <th>SibSp</th>\n",
       "      <th>Parch</th>\n",
       "      <th>Ticket</th>\n",
       "      <th>Fare</th>\n",
       "      <th>Embarked</th>\n",
       "      <th>Ticket_number</th>\n",
       "      <th>Ticket_item</th>\n",
       "    </tr>\n",
       "  </thead>\n",
       "  <tbody>\n",
       "    <tr>\n",
       "      <th>0</th>\n",
       "      <td>1</td>\n",
       "      <td>0</td>\n",
       "      <td>3</td>\n",
       "      <td>male</td>\n",
       "      <td>22.0</td>\n",
       "      <td>1</td>\n",
       "      <td>0</td>\n",
       "      <td>A/5 21171</td>\n",
       "      <td>7.2500</td>\n",
       "      <td>S</td>\n",
       "      <td>21171</td>\n",
       "      <td>A/5</td>\n",
       "    </tr>\n",
       "    <tr>\n",
       "      <th>1</th>\n",
       "      <td>2</td>\n",
       "      <td>1</td>\n",
       "      <td>1</td>\n",
       "      <td>female</td>\n",
       "      <td>38.0</td>\n",
       "      <td>1</td>\n",
       "      <td>0</td>\n",
       "      <td>PC 17599</td>\n",
       "      <td>71.2833</td>\n",
       "      <td>C</td>\n",
       "      <td>17599</td>\n",
       "      <td>PC</td>\n",
       "    </tr>\n",
       "    <tr>\n",
       "      <th>2</th>\n",
       "      <td>3</td>\n",
       "      <td>1</td>\n",
       "      <td>3</td>\n",
       "      <td>female</td>\n",
       "      <td>26.0</td>\n",
       "      <td>0</td>\n",
       "      <td>0</td>\n",
       "      <td>STON/O2. 3101282</td>\n",
       "      <td>7.9250</td>\n",
       "      <td>S</td>\n",
       "      <td>3101282</td>\n",
       "      <td>STON/O2.</td>\n",
       "    </tr>\n",
       "    <tr>\n",
       "      <th>3</th>\n",
       "      <td>4</td>\n",
       "      <td>1</td>\n",
       "      <td>1</td>\n",
       "      <td>female</td>\n",
       "      <td>35.0</td>\n",
       "      <td>1</td>\n",
       "      <td>0</td>\n",
       "      <td>113803</td>\n",
       "      <td>53.1000</td>\n",
       "      <td>S</td>\n",
       "      <td>113803</td>\n",
       "      <td>NONE</td>\n",
       "    </tr>\n",
       "    <tr>\n",
       "      <th>4</th>\n",
       "      <td>5</td>\n",
       "      <td>0</td>\n",
       "      <td>3</td>\n",
       "      <td>male</td>\n",
       "      <td>35.0</td>\n",
       "      <td>0</td>\n",
       "      <td>0</td>\n",
       "      <td>373450</td>\n",
       "      <td>8.0500</td>\n",
       "      <td>S</td>\n",
       "      <td>373450</td>\n",
       "      <td>NONE</td>\n",
       "    </tr>\n",
       "  </tbody>\n",
       "</table>\n",
       "</div>"
      ],
      "text/plain": [
       "   PassengerId  Survived  Pclass     Sex   Age  SibSp  Parch  \\\n",
       "0            1         0       3    male  22.0      1      0   \n",
       "1            2         1       1  female  38.0      1      0   \n",
       "2            3         1       3  female  26.0      0      0   \n",
       "3            4         1       1  female  35.0      1      0   \n",
       "4            5         0       3    male  35.0      0      0   \n",
       "\n",
       "             Ticket     Fare Embarked Ticket_number Ticket_item  \n",
       "0         A/5 21171   7.2500        S         21171         A/5  \n",
       "1          PC 17599  71.2833        C         17599          PC  \n",
       "2  STON/O2. 3101282   7.9250        S       3101282    STON/O2.  \n",
       "3            113803  53.1000        S        113803        NONE  \n",
       "4            373450   8.0500        S        373450        NONE  "
      ]
     },
     "execution_count": 12,
     "metadata": {},
     "output_type": "execute_result"
    }
   ],
   "source": [
    "def preprocess(df):\n",
    "    df = df.copy()\n",
    "    \n",
    "    def ticket_number(x):\n",
    "        return x.split(\" \")[-1]\n",
    "        \n",
    "    def ticket_item(x):\n",
    "        items = x.split(\" \")\n",
    "        if len(items) == 1:\n",
    "            return \"NONE\"\n",
    "        return \"_\".join(items[0:-1])\n",
    "    \n",
    "    df[\"Ticket_number\"] = df[\"Ticket\"].apply(ticket_number)\n",
    "    df[\"Ticket_item\"] = df[\"Ticket\"].apply(ticket_item)                     \n",
    "    return df\n",
    "    \n",
    "train_df = preprocess(train_df)\n",
    "test_df = preprocess(test_df)\n",
    "\n",
    "train_df.head(5)"
   ]
  },
  {
   "cell_type": "code",
   "execution_count": 13,
   "id": "5f515371",
   "metadata": {
    "execution": {
     "iopub.execute_input": "2023-08-01T15:01:26.115087Z",
     "iopub.status.busy": "2023-08-01T15:01:26.113878Z",
     "iopub.status.idle": "2023-08-01T15:01:26.140385Z",
     "shell.execute_reply": "2023-08-01T15:01:26.139198Z"
    },
    "papermill": {
     "duration": 0.045398,
     "end_time": "2023-08-01T15:01:26.143137",
     "exception": false,
     "start_time": "2023-08-01T15:01:26.097739",
     "status": "completed"
    },
    "tags": []
   },
   "outputs": [
    {
     "data": {
      "text/html": [
       "<div>\n",
       "<style scoped>\n",
       "    .dataframe tbody tr th:only-of-type {\n",
       "        vertical-align: middle;\n",
       "    }\n",
       "\n",
       "    .dataframe tbody tr th {\n",
       "        vertical-align: top;\n",
       "    }\n",
       "\n",
       "    .dataframe thead th {\n",
       "        text-align: right;\n",
       "    }\n",
       "</style>\n",
       "<table border=\"1\" class=\"dataframe\">\n",
       "  <thead>\n",
       "    <tr style=\"text-align: right;\">\n",
       "      <th></th>\n",
       "      <th>PassengerId</th>\n",
       "      <th>Survived</th>\n",
       "      <th>Pclass</th>\n",
       "      <th>Sex</th>\n",
       "      <th>Age</th>\n",
       "      <th>SibSp</th>\n",
       "      <th>Parch</th>\n",
       "      <th>Ticket</th>\n",
       "      <th>Fare</th>\n",
       "      <th>Embarked</th>\n",
       "      <th>Ticket_number</th>\n",
       "      <th>Ticket_item</th>\n",
       "    </tr>\n",
       "  </thead>\n",
       "  <tbody>\n",
       "    <tr>\n",
       "      <th>0</th>\n",
       "      <td>1</td>\n",
       "      <td>0</td>\n",
       "      <td>3</td>\n",
       "      <td>male</td>\n",
       "      <td>22.000000</td>\n",
       "      <td>1</td>\n",
       "      <td>0</td>\n",
       "      <td>A/5 21171</td>\n",
       "      <td>7.2500</td>\n",
       "      <td>S</td>\n",
       "      <td>21171</td>\n",
       "      <td>A/5</td>\n",
       "    </tr>\n",
       "    <tr>\n",
       "      <th>1</th>\n",
       "      <td>2</td>\n",
       "      <td>1</td>\n",
       "      <td>1</td>\n",
       "      <td>female</td>\n",
       "      <td>38.000000</td>\n",
       "      <td>1</td>\n",
       "      <td>0</td>\n",
       "      <td>PC 17599</td>\n",
       "      <td>71.2833</td>\n",
       "      <td>C</td>\n",
       "      <td>17599</td>\n",
       "      <td>PC</td>\n",
       "    </tr>\n",
       "    <tr>\n",
       "      <th>2</th>\n",
       "      <td>3</td>\n",
       "      <td>1</td>\n",
       "      <td>3</td>\n",
       "      <td>female</td>\n",
       "      <td>26.000000</td>\n",
       "      <td>0</td>\n",
       "      <td>0</td>\n",
       "      <td>STON/O2. 3101282</td>\n",
       "      <td>7.9250</td>\n",
       "      <td>S</td>\n",
       "      <td>3101282</td>\n",
       "      <td>STON/O2.</td>\n",
       "    </tr>\n",
       "    <tr>\n",
       "      <th>3</th>\n",
       "      <td>4</td>\n",
       "      <td>1</td>\n",
       "      <td>1</td>\n",
       "      <td>female</td>\n",
       "      <td>35.000000</td>\n",
       "      <td>1</td>\n",
       "      <td>0</td>\n",
       "      <td>113803</td>\n",
       "      <td>53.1000</td>\n",
       "      <td>S</td>\n",
       "      <td>113803</td>\n",
       "      <td>NONE</td>\n",
       "    </tr>\n",
       "    <tr>\n",
       "      <th>4</th>\n",
       "      <td>5</td>\n",
       "      <td>0</td>\n",
       "      <td>3</td>\n",
       "      <td>male</td>\n",
       "      <td>35.000000</td>\n",
       "      <td>0</td>\n",
       "      <td>0</td>\n",
       "      <td>373450</td>\n",
       "      <td>8.0500</td>\n",
       "      <td>S</td>\n",
       "      <td>373450</td>\n",
       "      <td>NONE</td>\n",
       "    </tr>\n",
       "    <tr>\n",
       "      <th>...</th>\n",
       "      <td>...</td>\n",
       "      <td>...</td>\n",
       "      <td>...</td>\n",
       "      <td>...</td>\n",
       "      <td>...</td>\n",
       "      <td>...</td>\n",
       "      <td>...</td>\n",
       "      <td>...</td>\n",
       "      <td>...</td>\n",
       "      <td>...</td>\n",
       "      <td>...</td>\n",
       "      <td>...</td>\n",
       "    </tr>\n",
       "    <tr>\n",
       "      <th>886</th>\n",
       "      <td>887</td>\n",
       "      <td>0</td>\n",
       "      <td>2</td>\n",
       "      <td>male</td>\n",
       "      <td>27.000000</td>\n",
       "      <td>0</td>\n",
       "      <td>0</td>\n",
       "      <td>211536</td>\n",
       "      <td>13.0000</td>\n",
       "      <td>S</td>\n",
       "      <td>211536</td>\n",
       "      <td>NONE</td>\n",
       "    </tr>\n",
       "    <tr>\n",
       "      <th>887</th>\n",
       "      <td>888</td>\n",
       "      <td>1</td>\n",
       "      <td>1</td>\n",
       "      <td>female</td>\n",
       "      <td>19.000000</td>\n",
       "      <td>0</td>\n",
       "      <td>0</td>\n",
       "      <td>112053</td>\n",
       "      <td>30.0000</td>\n",
       "      <td>S</td>\n",
       "      <td>112053</td>\n",
       "      <td>NONE</td>\n",
       "    </tr>\n",
       "    <tr>\n",
       "      <th>888</th>\n",
       "      <td>889</td>\n",
       "      <td>0</td>\n",
       "      <td>3</td>\n",
       "      <td>female</td>\n",
       "      <td>29.699118</td>\n",
       "      <td>1</td>\n",
       "      <td>2</td>\n",
       "      <td>W./C. 6607</td>\n",
       "      <td>23.4500</td>\n",
       "      <td>S</td>\n",
       "      <td>6607</td>\n",
       "      <td>W./C.</td>\n",
       "    </tr>\n",
       "    <tr>\n",
       "      <th>889</th>\n",
       "      <td>890</td>\n",
       "      <td>1</td>\n",
       "      <td>1</td>\n",
       "      <td>male</td>\n",
       "      <td>26.000000</td>\n",
       "      <td>0</td>\n",
       "      <td>0</td>\n",
       "      <td>111369</td>\n",
       "      <td>30.0000</td>\n",
       "      <td>C</td>\n",
       "      <td>111369</td>\n",
       "      <td>NONE</td>\n",
       "    </tr>\n",
       "    <tr>\n",
       "      <th>890</th>\n",
       "      <td>891</td>\n",
       "      <td>0</td>\n",
       "      <td>3</td>\n",
       "      <td>male</td>\n",
       "      <td>32.000000</td>\n",
       "      <td>0</td>\n",
       "      <td>0</td>\n",
       "      <td>370376</td>\n",
       "      <td>7.7500</td>\n",
       "      <td>Q</td>\n",
       "      <td>370376</td>\n",
       "      <td>NONE</td>\n",
       "    </tr>\n",
       "  </tbody>\n",
       "</table>\n",
       "<p>889 rows × 12 columns</p>\n",
       "</div>"
      ],
      "text/plain": [
       "     PassengerId  Survived  Pclass     Sex        Age  SibSp  Parch  \\\n",
       "0              1         0       3    male  22.000000      1      0   \n",
       "1              2         1       1  female  38.000000      1      0   \n",
       "2              3         1       3  female  26.000000      0      0   \n",
       "3              4         1       1  female  35.000000      1      0   \n",
       "4              5         0       3    male  35.000000      0      0   \n",
       "..           ...       ...     ...     ...        ...    ...    ...   \n",
       "886          887         0       2    male  27.000000      0      0   \n",
       "887          888         1       1  female  19.000000      0      0   \n",
       "888          889         0       3  female  29.699118      1      2   \n",
       "889          890         1       1    male  26.000000      0      0   \n",
       "890          891         0       3    male  32.000000      0      0   \n",
       "\n",
       "               Ticket     Fare Embarked Ticket_number Ticket_item  \n",
       "0           A/5 21171   7.2500        S         21171         A/5  \n",
       "1            PC 17599  71.2833        C         17599          PC  \n",
       "2    STON/O2. 3101282   7.9250        S       3101282    STON/O2.  \n",
       "3              113803  53.1000        S        113803        NONE  \n",
       "4              373450   8.0500        S        373450        NONE  \n",
       "..                ...      ...      ...           ...         ...  \n",
       "886            211536  13.0000        S        211536        NONE  \n",
       "887            112053  30.0000        S        112053        NONE  \n",
       "888        W./C. 6607  23.4500        S          6607       W./C.  \n",
       "889            111369  30.0000        C        111369        NONE  \n",
       "890            370376   7.7500        Q        370376        NONE  \n",
       "\n",
       "[889 rows x 12 columns]"
      ]
     },
     "execution_count": 13,
     "metadata": {},
     "output_type": "execute_result"
    }
   ],
   "source": [
    "train_df"
   ]
  },
  {
   "cell_type": "code",
   "execution_count": 14,
   "id": "ad9eb30a",
   "metadata": {
    "execution": {
     "iopub.execute_input": "2023-08-01T15:01:26.176657Z",
     "iopub.status.busy": "2023-08-01T15:01:26.175501Z",
     "iopub.status.idle": "2023-08-01T15:01:26.184125Z",
     "shell.execute_reply": "2023-08-01T15:01:26.183027Z"
    },
    "papermill": {
     "duration": 0.028702,
     "end_time": "2023-08-01T15:01:26.187034",
     "exception": false,
     "start_time": "2023-08-01T15:01:26.158332",
     "status": "completed"
    },
    "tags": []
   },
   "outputs": [],
   "source": [
    "train_df = train_df[train_df['Ticket_number'] != 'LINE']"
   ]
  },
  {
   "cell_type": "code",
   "execution_count": 15,
   "id": "4cbf388e",
   "metadata": {
    "execution": {
     "iopub.execute_input": "2023-08-01T15:01:26.220006Z",
     "iopub.status.busy": "2023-08-01T15:01:26.219206Z",
     "iopub.status.idle": "2023-08-01T15:01:26.270012Z",
     "shell.execute_reply": "2023-08-01T15:01:26.268203Z"
    },
    "papermill": {
     "duration": 0.07096,
     "end_time": "2023-08-01T15:01:26.273150",
     "exception": false,
     "start_time": "2023-08-01T15:01:26.202190",
     "status": "completed"
    },
    "tags": []
   },
   "outputs": [
    {
     "name": "stderr",
     "output_type": "stream",
     "text": [
      "/tmp/ipykernel_20/3966631404.py:27: DeprecationWarning: In a future version, `df.iloc[:, i] = newvals` will attempt to set the values inplace instead of always setting a new array. To retain the old behavior, use either `df[df.columns[i]] = newvals` or, if columns are non-unique, `df.isetitem(i, newvals)`\n",
      "  train_df.loc[:, 'Ticket_number'] = train_df['Ticket_number'].astype(int)\n"
     ]
    },
    {
     "data": {
      "text/html": [
       "<div>\n",
       "<style scoped>\n",
       "    .dataframe tbody tr th:only-of-type {\n",
       "        vertical-align: middle;\n",
       "    }\n",
       "\n",
       "    .dataframe tbody tr th {\n",
       "        vertical-align: top;\n",
       "    }\n",
       "\n",
       "    .dataframe thead th {\n",
       "        text-align: right;\n",
       "    }\n",
       "</style>\n",
       "<table border=\"1\" class=\"dataframe\">\n",
       "  <thead>\n",
       "    <tr style=\"text-align: right;\">\n",
       "      <th></th>\n",
       "      <th>PassengerId</th>\n",
       "      <th>Survived</th>\n",
       "      <th>Pclass</th>\n",
       "      <th>Sex</th>\n",
       "      <th>Age</th>\n",
       "      <th>SibSp</th>\n",
       "      <th>Parch</th>\n",
       "      <th>Ticket</th>\n",
       "      <th>Fare</th>\n",
       "      <th>Embarked</th>\n",
       "      <th>Ticket_number</th>\n",
       "      <th>Ticket_item</th>\n",
       "      <th>FamilySize</th>\n",
       "      <th>IsAlone</th>\n",
       "      <th>AgeGroup</th>\n",
       "      <th>FareGroup</th>\n",
       "      <th>Age_Pclass</th>\n",
       "      <th>Age_Sex</th>\n",
       "      <th>Embarked_Pclass</th>\n",
       "    </tr>\n",
       "  </thead>\n",
       "  <tbody>\n",
       "    <tr>\n",
       "      <th>0</th>\n",
       "      <td>1</td>\n",
       "      <td>0</td>\n",
       "      <td>3</td>\n",
       "      <td>male</td>\n",
       "      <td>22.0</td>\n",
       "      <td>1</td>\n",
       "      <td>0</td>\n",
       "      <td>A/5 21171</td>\n",
       "      <td>7.2500</td>\n",
       "      <td>S</td>\n",
       "      <td>21171</td>\n",
       "      <td>A/5</td>\n",
       "      <td>2</td>\n",
       "      <td>0</td>\n",
       "      <td>Adult</td>\n",
       "      <td>Low</td>\n",
       "      <td>66.0</td>\n",
       "      <td>22.0</td>\n",
       "      <td>S_3</td>\n",
       "    </tr>\n",
       "    <tr>\n",
       "      <th>1</th>\n",
       "      <td>2</td>\n",
       "      <td>1</td>\n",
       "      <td>1</td>\n",
       "      <td>female</td>\n",
       "      <td>38.0</td>\n",
       "      <td>1</td>\n",
       "      <td>0</td>\n",
       "      <td>PC 17599</td>\n",
       "      <td>71.2833</td>\n",
       "      <td>C</td>\n",
       "      <td>17599</td>\n",
       "      <td>PC</td>\n",
       "      <td>2</td>\n",
       "      <td>0</td>\n",
       "      <td>Middle-aged</td>\n",
       "      <td>High</td>\n",
       "      <td>38.0</td>\n",
       "      <td>0.0</td>\n",
       "      <td>C_1</td>\n",
       "    </tr>\n",
       "    <tr>\n",
       "      <th>2</th>\n",
       "      <td>3</td>\n",
       "      <td>1</td>\n",
       "      <td>3</td>\n",
       "      <td>female</td>\n",
       "      <td>26.0</td>\n",
       "      <td>0</td>\n",
       "      <td>0</td>\n",
       "      <td>STON/O2. 3101282</td>\n",
       "      <td>7.9250</td>\n",
       "      <td>S</td>\n",
       "      <td>3101282</td>\n",
       "      <td>STON/O2.</td>\n",
       "      <td>1</td>\n",
       "      <td>1</td>\n",
       "      <td>Adult</td>\n",
       "      <td>Low</td>\n",
       "      <td>78.0</td>\n",
       "      <td>0.0</td>\n",
       "      <td>S_3</td>\n",
       "    </tr>\n",
       "    <tr>\n",
       "      <th>3</th>\n",
       "      <td>4</td>\n",
       "      <td>1</td>\n",
       "      <td>1</td>\n",
       "      <td>female</td>\n",
       "      <td>35.0</td>\n",
       "      <td>1</td>\n",
       "      <td>0</td>\n",
       "      <td>113803</td>\n",
       "      <td>53.1000</td>\n",
       "      <td>S</td>\n",
       "      <td>113803</td>\n",
       "      <td>NONE</td>\n",
       "      <td>2</td>\n",
       "      <td>0</td>\n",
       "      <td>Middle-aged</td>\n",
       "      <td>High</td>\n",
       "      <td>35.0</td>\n",
       "      <td>0.0</td>\n",
       "      <td>S_1</td>\n",
       "    </tr>\n",
       "    <tr>\n",
       "      <th>4</th>\n",
       "      <td>5</td>\n",
       "      <td>0</td>\n",
       "      <td>3</td>\n",
       "      <td>male</td>\n",
       "      <td>35.0</td>\n",
       "      <td>0</td>\n",
       "      <td>0</td>\n",
       "      <td>373450</td>\n",
       "      <td>8.0500</td>\n",
       "      <td>S</td>\n",
       "      <td>373450</td>\n",
       "      <td>NONE</td>\n",
       "      <td>1</td>\n",
       "      <td>1</td>\n",
       "      <td>Middle-aged</td>\n",
       "      <td>Low</td>\n",
       "      <td>105.0</td>\n",
       "      <td>35.0</td>\n",
       "      <td>S_3</td>\n",
       "    </tr>\n",
       "  </tbody>\n",
       "</table>\n",
       "</div>"
      ],
      "text/plain": [
       "   PassengerId  Survived  Pclass     Sex   Age  SibSp  Parch  \\\n",
       "0            1         0       3    male  22.0      1      0   \n",
       "1            2         1       1  female  38.0      1      0   \n",
       "2            3         1       3  female  26.0      0      0   \n",
       "3            4         1       1  female  35.0      1      0   \n",
       "4            5         0       3    male  35.0      0      0   \n",
       "\n",
       "             Ticket     Fare Embarked  Ticket_number Ticket_item  FamilySize  \\\n",
       "0         A/5 21171   7.2500        S          21171         A/5           2   \n",
       "1          PC 17599  71.2833        C          17599          PC           2   \n",
       "2  STON/O2. 3101282   7.9250        S        3101282    STON/O2.           1   \n",
       "3            113803  53.1000        S         113803        NONE           2   \n",
       "4            373450   8.0500        S         373450        NONE           1   \n",
       "\n",
       "   IsAlone     AgeGroup FareGroup  Age_Pclass  Age_Sex Embarked_Pclass  \n",
       "0        0        Adult       Low        66.0     22.0             S_3  \n",
       "1        0  Middle-aged      High        38.0      0.0             C_1  \n",
       "2        1        Adult       Low        78.0      0.0             S_3  \n",
       "3        0  Middle-aged      High        35.0      0.0             S_1  \n",
       "4        1  Middle-aged       Low       105.0     35.0             S_3  "
      ]
     },
     "execution_count": 15,
     "metadata": {},
     "output_type": "execute_result"
    }
   ],
   "source": [
    "train_df = train_df.copy()\n",
    "\n",
    "train_df['FamilySize'] = train_df['SibSp'] + train_df['Parch'] + 1\n",
    "\n",
    "# 3. IsAlone\n",
    "train_df['IsAlone'] = (train_df['FamilySize'] == 1).astype(int)\n",
    "\n",
    "# 4. Age Bins\n",
    "age_bins = [0, 12, 18, 30, 60, 100]\n",
    "age_labels = ['Child', 'Teenager', 'Adult', 'Middle-aged', 'Elderly']\n",
    "train_df['AgeGroup'] = pd.cut(train_df['Age'], bins=age_bins, labels=age_labels, right=False)\n",
    "\n",
    "# 5. Fare Bins\n",
    "fare_bins = [0, 25, 50, 100, 1000]\n",
    "fare_labels = ['Low', 'Medium', 'High', 'Very High']\n",
    "train_df['FareGroup'] = pd.cut(train_df['Fare'], bins=fare_bins, labels=fare_labels, right=False)\n",
    "\n",
    "# 8. Age and Pclass Interaction\n",
    "train_df['Age_Pclass'] = train_df['Age'] * train_df['Pclass']\n",
    "\n",
    "# 9. Age and Sex Interaction\n",
    "train_df['Age_Sex'] = train_df['Age'] * (train_df['Sex'] == 'male').astype(int)\n",
    "\n",
    "# 10. Embarked and Pclass Interaction\n",
    "train_df['Embarked_Pclass'] = train_df['Embarked'] + '_' + train_df['Pclass'].astype(str)\n",
    "\n",
    "train_df.loc[:, 'Ticket_number'] = train_df['Ticket_number'].astype(int)\n",
    "train_df.head()"
   ]
  },
  {
   "cell_type": "code",
   "execution_count": 16,
   "id": "64ff4014",
   "metadata": {
    "execution": {
     "iopub.execute_input": "2023-08-01T15:01:26.306483Z",
     "iopub.status.busy": "2023-08-01T15:01:26.306036Z",
     "iopub.status.idle": "2023-08-01T15:01:26.340042Z",
     "shell.execute_reply": "2023-08-01T15:01:26.338478Z"
    },
    "papermill": {
     "duration": 0.054404,
     "end_time": "2023-08-01T15:01:26.342896",
     "exception": false,
     "start_time": "2023-08-01T15:01:26.288492",
     "status": "completed"
    },
    "tags": []
   },
   "outputs": [
    {
     "name": "stdout",
     "output_type": "stream",
     "text": [
      "<class 'pandas.core.frame.DataFrame'>\n",
      "RangeIndex: 418 entries, 0 to 417\n",
      "Data columns (total 18 columns):\n",
      " #   Column           Non-Null Count  Dtype   \n",
      "---  ------           --------------  -----   \n",
      " 0   PassengerId      418 non-null    int64   \n",
      " 1   Pclass           418 non-null    int64   \n",
      " 2   Sex              418 non-null    object  \n",
      " 3   Age              418 non-null    float64 \n",
      " 4   SibSp            418 non-null    int64   \n",
      " 5   Parch            418 non-null    int64   \n",
      " 6   Ticket           418 non-null    object  \n",
      " 7   Fare             418 non-null    float64 \n",
      " 8   Embarked         418 non-null    object  \n",
      " 9   Ticket_number    418 non-null    int64   \n",
      " 10  Ticket_item      418 non-null    object  \n",
      " 11  FamilySize       418 non-null    int64   \n",
      " 12  IsAlone          418 non-null    int64   \n",
      " 13  AgeGroup         418 non-null    category\n",
      " 14  FareGroup        418 non-null    category\n",
      " 15  Age_Pclass       418 non-null    float64 \n",
      " 16  Age_Sex          418 non-null    float64 \n",
      " 17  Embarked_Pclass  418 non-null    object  \n",
      "dtypes: category(2), float64(4), int64(7), object(5)\n",
      "memory usage: 53.6+ KB\n"
     ]
    }
   ],
   "source": [
    "test_df = test_df.copy()\n",
    "\n",
    "test_df['FamilySize'] = test_df['SibSp'] + test_df['Parch'] + 1\n",
    "\n",
    "# 3. IsAlone\n",
    "test_df['IsAlone'] = (test_df['FamilySize'] == 1).astype(int)\n",
    "\n",
    "# 4. Age Bins\n",
    "age_bins = [0, 12, 18, 30, 60, 100]\n",
    "age_labels = ['Child', 'Teenager', 'Adult', 'Middle-aged', 'Elderly']\n",
    "test_df['AgeGroup'] = pd.cut(test_df['Age'], bins=age_bins, labels=age_labels, right=False)\n",
    "\n",
    "# 5. Fare Bins\n",
    "fare_bins = [0, 25, 50, 100, 1000]\n",
    "fare_labels = ['Low', 'Medium', 'High', 'Very High']\n",
    "test_df['FareGroup'] = pd.cut(test_df['Fare'], bins=fare_bins, labels=fare_labels, right=False)\n",
    "\n",
    "# 8. Age and Pclass Interaction\n",
    "test_df['Age_Pclass'] = test_df['Age'] * test_df['Pclass']\n",
    "\n",
    "# 9. Age and Sex Interaction\n",
    "test_df['Age_Sex'] = test_df['Age'] * (test_df['Sex'] == 'male').astype(int)\n",
    "\n",
    "# 10. Embarked and Pclass Interaction\n",
    "test_df['Embarked_Pclass'] = test_df['Embarked'] + '_' + test_df['Pclass'].astype(str)\n",
    "\n",
    "test_df['Ticket_number'] = test_df['Ticket_number'].astype(int)\n",
    "test_df.info()"
   ]
  },
  {
   "cell_type": "code",
   "execution_count": 17,
   "id": "ec68b096",
   "metadata": {
    "execution": {
     "iopub.execute_input": "2023-08-01T15:01:26.375979Z",
     "iopub.status.busy": "2023-08-01T15:01:26.375494Z",
     "iopub.status.idle": "2023-08-01T15:01:30.788179Z",
     "shell.execute_reply": "2023-08-01T15:01:30.786559Z"
    },
    "papermill": {
     "duration": 4.433532,
     "end_time": "2023-08-01T15:01:30.791843",
     "exception": false,
     "start_time": "2023-08-01T15:01:26.358311",
     "status": "completed"
    },
    "tags": []
   },
   "outputs": [
    {
     "data": {
      "text/plain": [
       "array([[<Axes: title={'center': 'PassengerId'}>,\n",
       "        <Axes: title={'center': 'Survived'}>,\n",
       "        <Axes: title={'center': 'Pclass'}>],\n",
       "       [<Axes: title={'center': 'Age'}>,\n",
       "        <Axes: title={'center': 'SibSp'}>,\n",
       "        <Axes: title={'center': 'Parch'}>],\n",
       "       [<Axes: title={'center': 'Fare'}>,\n",
       "        <Axes: title={'center': 'Ticket_number'}>,\n",
       "        <Axes: title={'center': 'FamilySize'}>],\n",
       "       [<Axes: title={'center': 'IsAlone'}>,\n",
       "        <Axes: title={'center': 'Age_Pclass'}>,\n",
       "        <Axes: title={'center': 'Age_Sex'}>]], dtype=object)"
      ]
     },
     "execution_count": 17,
     "metadata": {},
     "output_type": "execute_result"
    },
    {
     "data": {
      "image/png": "[encoded data removed]",
      "text/plain": [
       "<Figure size 2000x1500 with 12 Axes>"
      ]
     },
     "metadata": {},
     "output_type": "display_data"
    }
   ],
   "source": [
    "import matplotlib.pyplot as plt\n",
    "\n",
    "train_df.hist(bins=50, figsize=(20, 15))"
   ]
  },
  {
   "cell_type": "code",
   "execution_count": 18,
   "id": "70da6217",
   "metadata": {
    "execution": {
     "iopub.execute_input": "2023-08-01T15:01:30.831019Z",
     "iopub.status.busy": "2023-08-01T15:01:30.830567Z",
     "iopub.status.idle": "2023-08-01T15:01:30.856192Z",
     "shell.execute_reply": "2023-08-01T15:01:30.854602Z"
    },
    "papermill": {
     "duration": 0.048643,
     "end_time": "2023-08-01T15:01:30.858960",
     "exception": false,
     "start_time": "2023-08-01T15:01:30.810317",
     "status": "completed"
    },
    "tags": []
   },
   "outputs": [
    {
     "name": "stdout",
     "output_type": "stream",
     "text": [
      "<class 'pandas.core.frame.DataFrame'>\n",
      "Int64Index: 885 entries, 0 to 890\n",
      "Data columns (total 13 columns):\n",
      " #   Column           Non-Null Count  Dtype   \n",
      "---  ------           --------------  -----   \n",
      " 0   Pclass           885 non-null    int64   \n",
      " 1   Sex              885 non-null    object  \n",
      " 2   Age              885 non-null    float64 \n",
      " 3   Fare             885 non-null    float64 \n",
      " 4   Embarked         885 non-null    object  \n",
      " 5   Ticket_number    885 non-null    int64   \n",
      " 6   FamilySize       885 non-null    int64   \n",
      " 7   IsAlone          885 non-null    int64   \n",
      " 8   AgeGroup         885 non-null    category\n",
      " 9   FareGroup        885 non-null    category\n",
      " 10  Age_Pclass       885 non-null    float64 \n",
      " 11  Age_Sex          885 non-null    float64 \n",
      " 12  Embarked_Pclass  885 non-null    object  \n",
      "dtypes: category(2), float64(4), int64(4), object(3)\n",
      "memory usage: 85.1+ KB\n"
     ]
    }
   ],
   "source": [
    "X_train = train_df.drop(['Survived', 'PassengerId', 'Ticket', 'Ticket_item', 'SibSp', 'Parch'], axis=1)\n",
    "X_test = test_df.drop(['PassengerId', 'Ticket', 'Ticket_item', 'SibSp', 'Parch'], axis=1)\n",
    "Y_train = train_df['Survived']\n",
    "\n",
    "X_train.info()"
   ]
  },
  {
   "cell_type": "code",
   "execution_count": 19,
   "id": "469c8bdd",
   "metadata": {
    "execution": {
     "iopub.execute_input": "2023-08-01T15:01:30.896674Z",
     "iopub.status.busy": "2023-08-01T15:01:30.896190Z",
     "iopub.status.idle": "2023-08-01T15:01:30.915529Z",
     "shell.execute_reply": "2023-08-01T15:01:30.913416Z"
    },
    "papermill": {
     "duration": 0.041846,
     "end_time": "2023-08-01T15:01:30.918578",
     "exception": false,
     "start_time": "2023-08-01T15:01:30.876732",
     "status": "completed"
    },
    "tags": []
   },
   "outputs": [
    {
     "name": "stdout",
     "output_type": "stream",
     "text": [
      "<class 'pandas.core.frame.DataFrame'>\n",
      "RangeIndex: 418 entries, 0 to 417\n",
      "Data columns (total 13 columns):\n",
      " #   Column           Non-Null Count  Dtype   \n",
      "---  ------           --------------  -----   \n",
      " 0   Pclass           418 non-null    int64   \n",
      " 1   Sex              418 non-null    object  \n",
      " 2   Age              418 non-null    float64 \n",
      " 3   Fare             418 non-null    float64 \n",
      " 4   Embarked         418 non-null    object  \n",
      " 5   Ticket_number    418 non-null    int64   \n",
      " 6   FamilySize       418 non-null    int64   \n",
      " 7   IsAlone          418 non-null    int64   \n",
      " 8   AgeGroup         418 non-null    category\n",
      " 9   FareGroup        418 non-null    category\n",
      " 10  Age_Pclass       418 non-null    float64 \n",
      " 11  Age_Sex          418 non-null    float64 \n",
      " 12  Embarked_Pclass  418 non-null    object  \n",
      "dtypes: category(2), float64(4), int64(4), object(3)\n",
      "memory usage: 37.3+ KB\n"
     ]
    }
   ],
   "source": [
    "X_test.info()"
   ]
  },
  {
   "cell_type": "code",
   "execution_count": 20,
   "id": "5dce0820",
   "metadata": {
    "execution": {
     "iopub.execute_input": "2023-08-01T15:01:30.956933Z",
     "iopub.status.busy": "2023-08-01T15:01:30.955971Z",
     "iopub.status.idle": "2023-08-01T15:01:30.964943Z",
     "shell.execute_reply": "2023-08-01T15:01:30.963554Z"
    },
    "papermill": {
     "duration": 0.031019,
     "end_time": "2023-08-01T15:01:30.967557",
     "exception": false,
     "start_time": "2023-08-01T15:01:30.936538",
     "status": "completed"
    },
    "tags": []
   },
   "outputs": [],
   "source": [
    "num_columns = X_train.select_dtypes(include=np.number)\n",
    "cat_columns = X_train.select_dtypes(include=['object', 'category'])"
   ]
  },
  {
   "cell_type": "code",
   "execution_count": 21,
   "id": "0a1f43a6",
   "metadata": {
    "execution": {
     "iopub.execute_input": "2023-08-01T15:01:31.005817Z",
     "iopub.status.busy": "2023-08-01T15:01:31.005333Z",
     "iopub.status.idle": "2023-08-01T15:01:31.028145Z",
     "shell.execute_reply": "2023-08-01T15:01:31.026901Z"
    },
    "papermill": {
     "duration": 0.045655,
     "end_time": "2023-08-01T15:01:31.031010",
     "exception": false,
     "start_time": "2023-08-01T15:01:30.985355",
     "status": "completed"
    },
    "tags": []
   },
   "outputs": [
    {
     "data": {
      "text/html": [
       "<div>\n",
       "<style scoped>\n",
       "    .dataframe tbody tr th:only-of-type {\n",
       "        vertical-align: middle;\n",
       "    }\n",
       "\n",
       "    .dataframe tbody tr th {\n",
       "        vertical-align: top;\n",
       "    }\n",
       "\n",
       "    .dataframe thead th {\n",
       "        text-align: right;\n",
       "    }\n",
       "</style>\n",
       "<table border=\"1\" class=\"dataframe\">\n",
       "  <thead>\n",
       "    <tr style=\"text-align: right;\">\n",
       "      <th></th>\n",
       "      <th>Pclass</th>\n",
       "      <th>Age</th>\n",
       "      <th>Fare</th>\n",
       "      <th>Ticket_number</th>\n",
       "      <th>FamilySize</th>\n",
       "      <th>IsAlone</th>\n",
       "      <th>Age_Pclass</th>\n",
       "      <th>Age_Sex</th>\n",
       "    </tr>\n",
       "  </thead>\n",
       "  <tbody>\n",
       "    <tr>\n",
       "      <th>0</th>\n",
       "      <td>3</td>\n",
       "      <td>22.000000</td>\n",
       "      <td>7.2500</td>\n",
       "      <td>21171</td>\n",
       "      <td>2</td>\n",
       "      <td>0</td>\n",
       "      <td>66.000000</td>\n",
       "      <td>22.0</td>\n",
       "    </tr>\n",
       "    <tr>\n",
       "      <th>1</th>\n",
       "      <td>1</td>\n",
       "      <td>38.000000</td>\n",
       "      <td>71.2833</td>\n",
       "      <td>17599</td>\n",
       "      <td>2</td>\n",
       "      <td>0</td>\n",
       "      <td>38.000000</td>\n",
       "      <td>0.0</td>\n",
       "    </tr>\n",
       "    <tr>\n",
       "      <th>2</th>\n",
       "      <td>3</td>\n",
       "      <td>26.000000</td>\n",
       "      <td>7.9250</td>\n",
       "      <td>3101282</td>\n",
       "      <td>1</td>\n",
       "      <td>1</td>\n",
       "      <td>78.000000</td>\n",
       "      <td>0.0</td>\n",
       "    </tr>\n",
       "    <tr>\n",
       "      <th>3</th>\n",
       "      <td>1</td>\n",
       "      <td>35.000000</td>\n",
       "      <td>53.1000</td>\n",
       "      <td>113803</td>\n",
       "      <td>2</td>\n",
       "      <td>0</td>\n",
       "      <td>35.000000</td>\n",
       "      <td>0.0</td>\n",
       "    </tr>\n",
       "    <tr>\n",
       "      <th>4</th>\n",
       "      <td>3</td>\n",
       "      <td>35.000000</td>\n",
       "      <td>8.0500</td>\n",
       "      <td>373450</td>\n",
       "      <td>1</td>\n",
       "      <td>1</td>\n",
       "      <td>105.000000</td>\n",
       "      <td>35.0</td>\n",
       "    </tr>\n",
       "    <tr>\n",
       "      <th>...</th>\n",
       "      <td>...</td>\n",
       "      <td>...</td>\n",
       "      <td>...</td>\n",
       "      <td>...</td>\n",
       "      <td>...</td>\n",
       "      <td>...</td>\n",
       "      <td>...</td>\n",
       "      <td>...</td>\n",
       "    </tr>\n",
       "    <tr>\n",
       "      <th>886</th>\n",
       "      <td>2</td>\n",
       "      <td>27.000000</td>\n",
       "      <td>13.0000</td>\n",
       "      <td>211536</td>\n",
       "      <td>1</td>\n",
       "      <td>1</td>\n",
       "      <td>54.000000</td>\n",
       "      <td>27.0</td>\n",
       "    </tr>\n",
       "    <tr>\n",
       "      <th>887</th>\n",
       "      <td>1</td>\n",
       "      <td>19.000000</td>\n",
       "      <td>30.0000</td>\n",
       "      <td>112053</td>\n",
       "      <td>1</td>\n",
       "      <td>1</td>\n",
       "      <td>19.000000</td>\n",
       "      <td>0.0</td>\n",
       "    </tr>\n",
       "    <tr>\n",
       "      <th>888</th>\n",
       "      <td>3</td>\n",
       "      <td>29.699118</td>\n",
       "      <td>23.4500</td>\n",
       "      <td>6607</td>\n",
       "      <td>4</td>\n",
       "      <td>0</td>\n",
       "      <td>89.097353</td>\n",
       "      <td>0.0</td>\n",
       "    </tr>\n",
       "    <tr>\n",
       "      <th>889</th>\n",
       "      <td>1</td>\n",
       "      <td>26.000000</td>\n",
       "      <td>30.0000</td>\n",
       "      <td>111369</td>\n",
       "      <td>1</td>\n",
       "      <td>1</td>\n",
       "      <td>26.000000</td>\n",
       "      <td>26.0</td>\n",
       "    </tr>\n",
       "    <tr>\n",
       "      <th>890</th>\n",
       "      <td>3</td>\n",
       "      <td>32.000000</td>\n",
       "      <td>7.7500</td>\n",
       "      <td>370376</td>\n",
       "      <td>1</td>\n",
       "      <td>1</td>\n",
       "      <td>96.000000</td>\n",
       "      <td>32.0</td>\n",
       "    </tr>\n",
       "  </tbody>\n",
       "</table>\n",
       "<p>885 rows × 8 columns</p>\n",
       "</div>"
      ],
      "text/plain": [
       "     Pclass        Age     Fare  Ticket_number  FamilySize  IsAlone  \\\n",
       "0         3  22.000000   7.2500          21171           2        0   \n",
       "1         1  38.000000  71.2833          17599           2        0   \n",
       "2         3  26.000000   7.9250        3101282           1        1   \n",
       "3         1  35.000000  53.1000         113803           2        0   \n",
       "4         3  35.000000   8.0500         373450           1        1   \n",
       "..      ...        ...      ...            ...         ...      ...   \n",
       "886       2  27.000000  13.0000         211536           1        1   \n",
       "887       1  19.000000  30.0000         112053           1        1   \n",
       "888       3  29.699118  23.4500           6607           4        0   \n",
       "889       1  26.000000  30.0000         111369           1        1   \n",
       "890       3  32.000000   7.7500         370376           1        1   \n",
       "\n",
       "     Age_Pclass  Age_Sex  \n",
       "0     66.000000     22.0  \n",
       "1     38.000000      0.0  \n",
       "2     78.000000      0.0  \n",
       "3     35.000000      0.0  \n",
       "4    105.000000     35.0  \n",
       "..          ...      ...  \n",
       "886   54.000000     27.0  \n",
       "887   19.000000      0.0  \n",
       "888   89.097353      0.0  \n",
       "889   26.000000     26.0  \n",
       "890   96.000000     32.0  \n",
       "\n",
       "[885 rows x 8 columns]"
      ]
     },
     "execution_count": 21,
     "metadata": {},
     "output_type": "execute_result"
    }
   ],
   "source": [
    "num_columns"
   ]
  },
  {
   "cell_type": "code",
   "execution_count": 22,
   "id": "d301f04f",
   "metadata": {
    "execution": {
     "iopub.execute_input": "2023-08-01T15:01:31.071039Z",
     "iopub.status.busy": "2023-08-01T15:01:31.070611Z",
     "iopub.status.idle": "2023-08-01T15:01:31.089524Z",
     "shell.execute_reply": "2023-08-01T15:01:31.087945Z"
    },
    "papermill": {
     "duration": 0.042364,
     "end_time": "2023-08-01T15:01:31.092205",
     "exception": false,
     "start_time": "2023-08-01T15:01:31.049841",
     "status": "completed"
    },
    "tags": []
   },
   "outputs": [
    {
     "data": {
      "text/html": [
       "<div>\n",
       "<style scoped>\n",
       "    .dataframe tbody tr th:only-of-type {\n",
       "        vertical-align: middle;\n",
       "    }\n",
       "\n",
       "    .dataframe tbody tr th {\n",
       "        vertical-align: top;\n",
       "    }\n",
       "\n",
       "    .dataframe thead th {\n",
       "        text-align: right;\n",
       "    }\n",
       "</style>\n",
       "<table border=\"1\" class=\"dataframe\">\n",
       "  <thead>\n",
       "    <tr style=\"text-align: right;\">\n",
       "      <th></th>\n",
       "      <th>Sex</th>\n",
       "      <th>Embarked</th>\n",
       "      <th>AgeGroup</th>\n",
       "      <th>FareGroup</th>\n",
       "      <th>Embarked_Pclass</th>\n",
       "    </tr>\n",
       "  </thead>\n",
       "  <tbody>\n",
       "    <tr>\n",
       "      <th>0</th>\n",
       "      <td>male</td>\n",
       "      <td>S</td>\n",
       "      <td>Adult</td>\n",
       "      <td>Low</td>\n",
       "      <td>S_3</td>\n",
       "    </tr>\n",
       "    <tr>\n",
       "      <th>1</th>\n",
       "      <td>female</td>\n",
       "      <td>C</td>\n",
       "      <td>Middle-aged</td>\n",
       "      <td>High</td>\n",
       "      <td>C_1</td>\n",
       "    </tr>\n",
       "    <tr>\n",
       "      <th>2</th>\n",
       "      <td>female</td>\n",
       "      <td>S</td>\n",
       "      <td>Adult</td>\n",
       "      <td>Low</td>\n",
       "      <td>S_3</td>\n",
       "    </tr>\n",
       "    <tr>\n",
       "      <th>3</th>\n",
       "      <td>female</td>\n",
       "      <td>S</td>\n",
       "      <td>Middle-aged</td>\n",
       "      <td>High</td>\n",
       "      <td>S_1</td>\n",
       "    </tr>\n",
       "    <tr>\n",
       "      <th>4</th>\n",
       "      <td>male</td>\n",
       "      <td>S</td>\n",
       "      <td>Middle-aged</td>\n",
       "      <td>Low</td>\n",
       "      <td>S_3</td>\n",
       "    </tr>\n",
       "    <tr>\n",
       "      <th>...</th>\n",
       "      <td>...</td>\n",
       "      <td>...</td>\n",
       "      <td>...</td>\n",
       "      <td>...</td>\n",
       "      <td>...</td>\n",
       "    </tr>\n",
       "    <tr>\n",
       "      <th>886</th>\n",
       "      <td>male</td>\n",
       "      <td>S</td>\n",
       "      <td>Adult</td>\n",
       "      <td>Low</td>\n",
       "      <td>S_2</td>\n",
       "    </tr>\n",
       "    <tr>\n",
       "      <th>887</th>\n",
       "      <td>female</td>\n",
       "      <td>S</td>\n",
       "      <td>Adult</td>\n",
       "      <td>Medium</td>\n",
       "      <td>S_1</td>\n",
       "    </tr>\n",
       "    <tr>\n",
       "      <th>888</th>\n",
       "      <td>female</td>\n",
       "      <td>S</td>\n",
       "      <td>Adult</td>\n",
       "      <td>Low</td>\n",
       "      <td>S_3</td>\n",
       "    </tr>\n",
       "    <tr>\n",
       "      <th>889</th>\n",
       "      <td>male</td>\n",
       "      <td>C</td>\n",
       "      <td>Adult</td>\n",
       "      <td>Medium</td>\n",
       "      <td>C_1</td>\n",
       "    </tr>\n",
       "    <tr>\n",
       "      <th>890</th>\n",
       "      <td>male</td>\n",
       "      <td>Q</td>\n",
       "      <td>Middle-aged</td>\n",
       "      <td>Low</td>\n",
       "      <td>Q_3</td>\n",
       "    </tr>\n",
       "  </tbody>\n",
       "</table>\n",
       "<p>885 rows × 5 columns</p>\n",
       "</div>"
      ],
      "text/plain": [
       "        Sex Embarked     AgeGroup FareGroup Embarked_Pclass\n",
       "0      male        S        Adult       Low             S_3\n",
       "1    female        C  Middle-aged      High             C_1\n",
       "2    female        S        Adult       Low             S_3\n",
       "3    female        S  Middle-aged      High             S_1\n",
       "4      male        S  Middle-aged       Low             S_3\n",
       "..      ...      ...          ...       ...             ...\n",
       "886    male        S        Adult       Low             S_2\n",
       "887  female        S        Adult    Medium             S_1\n",
       "888  female        S        Adult       Low             S_3\n",
       "889    male        C        Adult    Medium             C_1\n",
       "890    male        Q  Middle-aged       Low             Q_3\n",
       "\n",
       "[885 rows x 5 columns]"
      ]
     },
     "execution_count": 22,
     "metadata": {},
     "output_type": "execute_result"
    }
   ],
   "source": [
    "cat_columns"
   ]
  },
  {
   "cell_type": "code",
   "execution_count": 23,
   "id": "65ce7734",
   "metadata": {
    "execution": {
     "iopub.execute_input": "2023-08-01T15:01:31.133698Z",
     "iopub.status.busy": "2023-08-01T15:01:31.133251Z",
     "iopub.status.idle": "2023-08-01T15:01:32.649570Z",
     "shell.execute_reply": "2023-08-01T15:01:32.647977Z"
    },
    "papermill": {
     "duration": 1.540956,
     "end_time": "2023-08-01T15:01:32.652859",
     "exception": false,
     "start_time": "2023-08-01T15:01:31.111903",
     "status": "completed"
    },
    "tags": []
   },
   "outputs": [
    {
     "name": "stderr",
     "output_type": "stream",
     "text": [
      "/opt/conda/lib/python3.10/site-packages/scipy/__init__.py:146: UserWarning: A NumPy version >=1.16.5 and <1.23.0 is required for this version of SciPy (detected version 1.23.5\n",
      "  warnings.warn(f\"A NumPy version >={np_minversion} and <{np_maxversion}\"\n"
     ]
    },
    {
     "data": {
      "text/plain": [
       "array([[0., 1., 0., ..., 0., 0., 1.],\n",
       "       [1., 0., 1., ..., 0., 0., 0.],\n",
       "       [1., 0., 0., ..., 0., 0., 1.],\n",
       "       ...,\n",
       "       [1., 0., 0., ..., 0., 0., 1.],\n",
       "       [0., 1., 1., ..., 0., 0., 0.],\n",
       "       [0., 1., 0., ..., 0., 0., 0.]])"
      ]
     },
     "execution_count": 23,
     "metadata": {},
     "output_type": "execute_result"
    }
   ],
   "source": [
    "from sklearn.preprocessing import OneHotEncoder\n",
    "\n",
    "one_hot_train = OneHotEncoder()\n",
    "\n",
    "cat_columns_encoded = one_hot_train.fit_transform(cat_columns)\n",
    "cat_columns_encoded.toarray()"
   ]
  },
  {
   "cell_type": "code",
   "execution_count": 24,
   "id": "305c50b9",
   "metadata": {
    "execution": {
     "iopub.execute_input": "2023-08-01T15:01:32.696608Z",
     "iopub.status.busy": "2023-08-01T15:01:32.696095Z",
     "iopub.status.idle": "2023-08-01T15:01:32.704930Z",
     "shell.execute_reply": "2023-08-01T15:01:32.703455Z"
    },
    "papermill": {
     "duration": 0.03434,
     "end_time": "2023-08-01T15:01:32.707756",
     "exception": false,
     "start_time": "2023-08-01T15:01:32.673416",
     "status": "completed"
    },
    "tags": []
   },
   "outputs": [
    {
     "data": {
      "text/plain": [
       "[array(['female', 'male'], dtype=object),\n",
       " array(['C', 'Q', 'S'], dtype=object),\n",
       " array(['Adult', 'Child', 'Elderly', 'Middle-aged', 'Teenager'],\n",
       "       dtype=object),\n",
       " array(['High', 'Low', 'Medium', 'Very High'], dtype=object),\n",
       " array(['C_1', 'C_2', 'C_3', 'Q_1', 'Q_2', 'Q_3', 'S_1', 'S_2', 'S_3'],\n",
       "       dtype=object)]"
      ]
     },
     "execution_count": 24,
     "metadata": {},
     "output_type": "execute_result"
    }
   ],
   "source": [
    "one_hot_train.categories_"
   ]
  },
  {
   "cell_type": "code",
   "execution_count": 25,
   "id": "66f02a46",
   "metadata": {
    "execution": {
     "iopub.execute_input": "2023-08-01T15:01:32.751623Z",
     "iopub.status.busy": "2023-08-01T15:01:32.751159Z",
     "iopub.status.idle": "2023-08-01T15:01:32.762843Z",
     "shell.execute_reply": "2023-08-01T15:01:32.761771Z"
    },
    "papermill": {
     "duration": 0.036104,
     "end_time": "2023-08-01T15:01:32.765210",
     "exception": false,
     "start_time": "2023-08-01T15:01:32.729106",
     "status": "completed"
    },
    "tags": []
   },
   "outputs": [],
   "source": [
    "from sklearn.preprocessing import StandardScaler\n",
    "\n",
    "scaler = StandardScaler()\n",
    "\n",
    "num_columns_tr = scaler.fit_transform(num_columns)"
   ]
  },
  {
   "cell_type": "code",
   "execution_count": 26,
   "id": "4a846204",
   "metadata": {
    "execution": {
     "iopub.execute_input": "2023-08-01T15:01:32.806482Z",
     "iopub.status.busy": "2023-08-01T15:01:32.805884Z",
     "iopub.status.idle": "2023-08-01T15:01:32.854586Z",
     "shell.execute_reply": "2023-08-01T15:01:32.853292Z"
    },
    "papermill": {
     "duration": 0.072587,
     "end_time": "2023-08-01T15:01:32.857333",
     "exception": false,
     "start_time": "2023-08-01T15:01:32.784746",
     "status": "completed"
    },
    "tags": []
   },
   "outputs": [],
   "source": [
    "from sklearn.compose import ColumnTransformer\n",
    "\n",
    "num_attribs = list(num_columns)\n",
    "cat_attribs = list(cat_columns)\n",
    "\n",
    "full_pipeline = ColumnTransformer([\n",
    "    (\"num\", StandardScaler(), num_attribs),\n",
    "    (\"cat\", OneHotEncoder(), cat_attribs)\n",
    "])\n",
    "\n",
    "X_train_prepared = full_pipeline.fit_transform(X_train)"
   ]
  },
  {
   "cell_type": "code",
   "execution_count": 27,
   "id": "4120f5b3",
   "metadata": {
    "execution": {
     "iopub.execute_input": "2023-08-01T15:01:32.900434Z",
     "iopub.status.busy": "2023-08-01T15:01:32.899412Z",
     "iopub.status.idle": "2023-08-01T15:01:33.195931Z",
     "shell.execute_reply": "2023-08-01T15:01:33.194543Z"
    },
    "papermill": {
     "duration": 0.321638,
     "end_time": "2023-08-01T15:01:33.198678",
     "exception": false,
     "start_time": "2023-08-01T15:01:32.877040",
     "status": "completed"
    },
    "tags": []
   },
   "outputs": [
    {
     "data": {
      "text/html": [
       "<style>#sk-container-id-1 {color: black;background-color: white;}#sk-container-id-1 pre{padding: 0;}#sk-container-id-1 div.sk-toggleable {background-color: white;}#sk-container-id-1 label.sk-toggleable__label {cursor: pointer;display: block;width: 100%;margin-bottom: 0;padding: 0.3em;box-sizing: border-box;text-align: center;}#sk-container-id-1 label.sk-toggleable__label-arrow:before {content: \"▸\";float: left;margin-right: 0.25em;color: #696969;}#sk-container-id-1 label.sk-toggleable__label-arrow:hover:before {color: black;}#sk-container-id-1 div.sk-estimator:hover label.sk-toggleable__label-arrow:before {color: black;}#sk-container-id-1 div.sk-toggleable__content {max-height: 0;max-width: 0;overflow: hidden;text-align: left;background-color: #f0f8ff;}#sk-container-id-1 div.sk-toggleable__content pre {margin: 0.2em;color: black;border-radius: 0.25em;background-color: #f0f8ff;}#sk-container-id-1 input.sk-toggleable__control:checked~div.sk-toggleable__content {max-height: 200px;max-width: 100%;overflow: auto;}#sk-container-id-1 input.sk-toggleable__control:checked~label.sk-toggleable__label-arrow:before {content: \"▾\";}#sk-container-id-1 div.sk-estimator input.sk-toggleable__control:checked~label.sk-toggleable__label {background-color: #d4ebff;}#sk-container-id-1 div.sk-label input.sk-toggleable__control:checked~label.sk-toggleable__label {background-color: #d4ebff;}#sk-container-id-1 input.sk-hidden--visually {border: 0;clip: rect(1px 1px 1px 1px);clip: rect(1px, 1px, 1px, 1px);height: 1px;margin: -1px;overflow: hidden;padding: 0;position: absolute;width: 1px;}#sk-container-id-1 div.sk-estimator {font-family: monospace;background-color: #f0f8ff;border: 1px dotted black;border-radius: 0.25em;box-sizing: border-box;margin-bottom: 0.5em;}#sk-container-id-1 div.sk-estimator:hover {background-color: #d4ebff;}#sk-container-id-1 div.sk-parallel-item::after {content: \"\";width: 100%;border-bottom: 1px solid gray;flex-grow: 1;}#sk-container-id-1 div.sk-label:hover label.sk-toggleable__label {background-color: #d4ebff;}#sk-container-id-1 div.sk-serial::before {content: \"\";position: absolute;border-left: 1px solid gray;box-sizing: border-box;top: 0;bottom: 0;left: 50%;z-index: 0;}#sk-container-id-1 div.sk-serial {display: flex;flex-direction: column;align-items: center;background-color: white;padding-right: 0.2em;padding-left: 0.2em;position: relative;}#sk-container-id-1 div.sk-item {position: relative;z-index: 1;}#sk-container-id-1 div.sk-parallel {display: flex;align-items: stretch;justify-content: center;background-color: white;position: relative;}#sk-container-id-1 div.sk-item::before, #sk-container-id-1 div.sk-parallel-item::before {content: \"\";position: absolute;border-left: 1px solid gray;box-sizing: border-box;top: 0;bottom: 0;left: 50%;z-index: -1;}#sk-container-id-1 div.sk-parallel-item {display: flex;flex-direction: column;z-index: 1;position: relative;background-color: white;}#sk-container-id-1 div.sk-parallel-item:first-child::after {align-self: flex-end;width: 50%;}#sk-container-id-1 div.sk-parallel-item:last-child::after {align-self: flex-start;width: 50%;}#sk-container-id-1 div.sk-parallel-item:only-child::after {width: 0;}#sk-container-id-1 div.sk-dashed-wrapped {border: 1px dashed gray;margin: 0 0.4em 0.5em 0.4em;box-sizing: border-box;padding-bottom: 0.4em;background-color: white;}#sk-container-id-1 div.sk-label label {font-family: monospace;font-weight: bold;display: inline-block;line-height: 1.2em;}#sk-container-id-1 div.sk-label-container {text-align: center;}#sk-container-id-1 div.sk-container {/* jupyter's `normalize.less` sets `[hidden] { display: none; }` but bootstrap.min.css set `[hidden] { display: none !important; }` so we also need the `!important` here to be able to override the default hidden behavior on the sphinx rendered scikit-learn.org. See: https://github.com/scikit-learn/scikit-learn/issues/21755 */display: inline-block !important;position: relative;}#sk-container-id-1 div.sk-text-repr-fallback {display: none;}</style><div id=\"sk-container-id-1\" class=\"sk-top-container\"><div class=\"sk-text-repr-fallback\"><pre>SGDClassifier(random_state=42)</pre><b>In a Jupyter environment, please rerun this cell to show the HTML representation or trust the notebook. <br />On GitHub, the HTML representation is unable to render, please try loading this page with nbviewer.org.</b></div><div class=\"sk-container\" hidden><div class=\"sk-item\"><div class=\"sk-estimator sk-toggleable\"><input class=\"sk-toggleable__control sk-hidden--visually\" id=\"sk-estimator-id-1\" type=\"checkbox\" checked><label for=\"sk-estimator-id-1\" class=\"sk-toggleable__label sk-toggleable__label-arrow\">SGDClassifier</label><div class=\"sk-toggleable__content\"><pre>SGDClassifier(random_state=42)</pre></div></div></div></div></div>"
      ],
      "text/plain": [
       "SGDClassifier(random_state=42)"
      ]
     },
     "execution_count": 27,
     "metadata": {},
     "output_type": "execute_result"
    }
   ],
   "source": [
    "from sklearn.linear_model import SGDClassifier\n",
    "\n",
    "sgd_clf = SGDClassifier(random_state=42)\n",
    "sgd_clf.fit(X_train_prepared, Y_train)"
   ]
  },
  {
   "cell_type": "code",
   "execution_count": 28,
   "id": "b0739076",
   "metadata": {
    "execution": {
     "iopub.execute_input": "2023-08-01T15:01:33.240441Z",
     "iopub.status.busy": "2023-08-01T15:01:33.239915Z",
     "iopub.status.idle": "2023-08-01T15:01:33.276847Z",
     "shell.execute_reply": "2023-08-01T15:01:33.275776Z"
    },
    "papermill": {
     "duration": 0.060908,
     "end_time": "2023-08-01T15:01:33.279395",
     "exception": false,
     "start_time": "2023-08-01T15:01:33.218487",
     "status": "completed"
    },
    "tags": []
   },
   "outputs": [
    {
     "data": {
      "text/plain": [
       "array([0.77966102, 0.76949153, 0.81355932])"
      ]
     },
     "execution_count": 28,
     "metadata": {},
     "output_type": "execute_result"
    }
   ],
   "source": [
    "from sklearn.model_selection import cross_val_score\n",
    "\n",
    "cross_val_score(sgd_clf, X_train_prepared, Y_train, cv=3, scoring='accuracy')"
   ]
  },
  {
   "cell_type": "code",
   "execution_count": 29,
   "id": "559c3ce7",
   "metadata": {
    "execution": {
     "iopub.execute_input": "2023-08-01T15:01:33.321794Z",
     "iopub.status.busy": "2023-08-01T15:01:33.321336Z",
     "iopub.status.idle": "2023-08-01T15:01:34.563915Z",
     "shell.execute_reply": "2023-08-01T15:01:34.562237Z"
    },
    "papermill": {
     "duration": 1.267848,
     "end_time": "2023-08-01T15:01:34.567347",
     "exception": false,
     "start_time": "2023-08-01T15:01:33.299499",
     "status": "completed"
    },
    "tags": []
   },
   "outputs": [
    {
     "data": {
      "text/plain": [
       "array([0.79322034, 0.81694915, 0.83050847])"
      ]
     },
     "execution_count": 29,
     "metadata": {},
     "output_type": "execute_result"
    }
   ],
   "source": [
    "from sklearn.ensemble import RandomForestClassifier\n",
    "\n",
    "random_forest = RandomForestClassifier(random_state=42)\n",
    "cross_val_score(random_forest, X_train_prepared, Y_train, cv=3, scoring='accuracy')"
   ]
  },
  {
   "cell_type": "code",
   "execution_count": 30,
   "id": "957c95b5",
   "metadata": {
    "execution": {
     "iopub.execute_input": "2023-08-01T15:01:34.611873Z",
     "iopub.status.busy": "2023-08-01T15:01:34.611401Z",
     "iopub.status.idle": "2023-08-01T15:01:41.173398Z",
     "shell.execute_reply": "2023-08-01T15:01:41.171655Z"
    },
    "papermill": {
     "duration": 6.587391,
     "end_time": "2023-08-01T15:01:41.176209",
     "exception": false,
     "start_time": "2023-08-01T15:01:34.588818",
     "status": "completed"
    },
    "tags": []
   },
   "outputs": [
    {
     "name": "stdout",
     "output_type": "stream",
     "text": [
      "                            Mean Accuracy\n",
      "GradientBoostingClassifier       0.833898\n",
      "RandomForestClassifier           0.829379\n",
      "VotingClassifier                 0.829379\n",
      "SVC                              0.824859\n",
      "LogisticRegression               0.802260\n",
      "KNeighborsClassifier             0.802260\n"
     ]
    }
   ],
   "source": [
    "from sklearn.model_selection import cross_val_score\n",
    "from sklearn.linear_model import LogisticRegression\n",
    "from sklearn.ensemble import RandomForestClassifier, GradientBoostingClassifier, VotingClassifier\n",
    "from sklearn.svm import SVC\n",
    "from sklearn.neighbors import KNeighborsClassifier\n",
    "\n",
    "logistic_regression = LogisticRegression()\n",
    "random_forest = RandomForestClassifier()\n",
    "gradient_boosting = GradientBoostingClassifier()\n",
    "svc = SVC()\n",
    "k_neighbors = KNeighborsClassifier()\n",
    "\n",
    "# Create the VotingClassifier with the individual models\n",
    "voting_classifier = VotingClassifier(\n",
    "    estimators=[('lr', logistic_regression), ('rf', random_forest), \n",
    "                ('gb', gradient_boosting), ('svc', svc), ('knn', k_neighbors)],\n",
    "    voting='hard'  # 'hard' for majority voting, 'soft' for weighted voting based on probabilities\n",
    ")\n",
    "\n",
    "classifiers = [\n",
    "    LogisticRegression(),\n",
    "    RandomForestClassifier(),\n",
    "    GradientBoostingClassifier(),\n",
    "    SVC(),\n",
    "    KNeighborsClassifier()\n",
    "]\n",
    "\n",
    "classifiers = classifiers + [voting_classifier]\n",
    "\n",
    "results = {}\n",
    "\n",
    "for classifier in classifiers:\n",
    "    accuracy_scores = cross_val_score(classifier, X_train_prepared, Y_train, cv=5, scoring='accuracy')\n",
    "    \n",
    "    results[classifier.__class__.__name__] = accuracy_scores.mean()\n",
    "\n",
    "results_df = pd.DataFrame.from_dict(results, orient='index', columns=['Mean Accuracy'])\n",
    "results_df.sort_values(by='Mean Accuracy', ascending=False, inplace=True)\n",
    "\n",
    "print(results_df)"
   ]
  },
  {
   "cell_type": "code",
   "execution_count": 31,
   "id": "bb3e246a",
   "metadata": {
    "execution": {
     "iopub.execute_input": "2023-08-01T15:01:41.219409Z",
     "iopub.status.busy": "2023-08-01T15:01:41.218974Z",
     "iopub.status.idle": "2023-08-01T15:14:07.957689Z",
     "shell.execute_reply": "2023-08-01T15:14:07.956514Z"
    },
    "papermill": {
     "duration": 746.783297,
     "end_time": "2023-08-01T15:14:07.979876",
     "exception": false,
     "start_time": "2023-08-01T15:01:41.196579",
     "status": "completed"
    },
    "tags": []
   },
   "outputs": [
    {
     "name": "stdout",
     "output_type": "stream",
     "text": [
      "Best Hyperparameters: {'criterion': 'friedman_mse', 'learning_rate': 0.2, 'max_depth': 8, 'max_features': 'log2', 'min_samples_leaf': 8, 'min_samples_split': 2, 'n_estimators': 10, 'subsample': 0.85}\n"
     ]
    }
   ],
   "source": [
    "from sklearn.model_selection import GridSearchCV\n",
    "\n",
    "parameters = {\n",
    "    \"learning_rate\": [0.01, 0.025, 0.05, 0.075, 0.1, 0.15, 0.2],\n",
    "    \"min_samples_split\": [2, 5, 10, 20],\n",
    "    \"min_samples_leaf\": [1, 2, 4, 8], \n",
    "    \"max_depth\":[3,5,8],\n",
    "    \"max_features\":[\"log2\",\"sqrt\"],\n",
    "    \"criterion\": [\"friedman_mse\",  'squared_error'],\n",
    "    \"subsample\":[0.5, 0.618, 0.8, 0.85, 0.9, 0.95, 1.0],\n",
    "    \"n_estimators\":[10]\n",
    "}\n",
    "\n",
    "classifier = GradientBoostingClassifier()\n",
    "\n",
    "grid_search = GridSearchCV(estimator=classifier, param_grid=parameters, cv=3)\n",
    "\n",
    "grid_search.fit(X_train_prepared, Y_train)\n",
    "\n",
    "best_params = grid_search.best_params_\n",
    "print(\"Best Hyperparameters:\", best_params)"
   ]
  },
  {
   "cell_type": "code",
   "execution_count": 32,
   "id": "6705ddcc",
   "metadata": {
    "execution": {
     "iopub.execute_input": "2023-08-01T15:14:08.027510Z",
     "iopub.status.busy": "2023-08-01T15:14:08.026978Z",
     "iopub.status.idle": "2023-08-01T15:14:08.033366Z",
     "shell.execute_reply": "2023-08-01T15:14:08.031443Z"
    },
    "papermill": {
     "duration": 0.032177,
     "end_time": "2023-08-01T15:14:08.035888",
     "exception": false,
     "start_time": "2023-08-01T15:14:08.003711",
     "status": "completed"
    },
    "tags": []
   },
   "outputs": [],
   "source": [
    "model = grid_search.best_estimator_"
   ]
  },
  {
   "cell_type": "code",
   "execution_count": 33,
   "id": "6d709f21",
   "metadata": {
    "execution": {
     "iopub.execute_input": "2023-08-01T15:14:08.079846Z",
     "iopub.status.busy": "2023-08-01T15:14:08.078591Z",
     "iopub.status.idle": "2023-08-01T15:14:08.701790Z",
     "shell.execute_reply": "2023-08-01T15:14:08.700069Z"
    },
    "papermill": {
     "duration": 0.649085,
     "end_time": "2023-08-01T15:14:08.704856",
     "exception": false,
     "start_time": "2023-08-01T15:14:08.055771",
     "status": "completed"
    },
    "tags": []
   },
   "outputs": [
    {
     "name": "stdout",
     "output_type": "stream",
     "text": [
      "[ 0.0119774   0.00813559  0.0120904   0.02305085  0.00587571  0.00282486\n",
      "  0.03028249  0.0300565   0.02011299 -0.00214689  0.01050847 -0.00011299\n",
      " -0.00180791  0.00418079  0.00090395  0.          0.00666667  0.\n",
      "  0.0059887   0.00282486  0.00576271  0.00248588  0.00858757  0.\n",
      " -0.00011299  0.          0.          0.00090395  0.0020339   0.00011299\n",
      "  0.02553672]\n"
     ]
    }
   ],
   "source": [
    "from sklearn.model_selection import train_test_split\n",
    "from sklearn.ensemble import RandomForestClassifier\n",
    "from sklearn.inspection import permutation_importance\n",
    "\n",
    "# Compute permutation importance\n",
    "perm_importance = permutation_importance(model, X_train_prepared, Y_train, n_repeats=10, random_state=42)\n",
    "\n",
    "# Get feature importances\n",
    "feature_importance = perm_importance.importances_mean\n",
    "\n",
    "# Print or visualize the importance_df to see the feature importances\n",
    "print(feature_importance)"
   ]
  },
  {
   "cell_type": "code",
   "execution_count": 34,
   "id": "7320b8e1",
   "metadata": {
    "execution": {
     "iopub.execute_input": "2023-08-01T15:14:08.749213Z",
     "iopub.status.busy": "2023-08-01T15:14:08.748567Z",
     "iopub.status.idle": "2023-08-01T15:14:08.844154Z",
     "shell.execute_reply": "2023-08-01T15:14:08.843187Z"
    },
    "papermill": {
     "duration": 0.12075,
     "end_time": "2023-08-01T15:14:08.846714",
     "exception": false,
     "start_time": "2023-08-01T15:14:08.725964",
     "status": "completed"
    },
    "tags": []
   },
   "outputs": [
    {
     "data": {
      "text/plain": [
       "array([0.77627119, 0.83728814, 0.82711864])"
      ]
     },
     "execution_count": 34,
     "metadata": {},
     "output_type": "execute_result"
    }
   ],
   "source": [
    "cross_val_score(model, X_train_prepared, Y_train, cv=3, scoring='accuracy')"
   ]
  },
  {
   "cell_type": "code",
   "execution_count": 35,
   "id": "14312b5f",
   "metadata": {
    "execution": {
     "iopub.execute_input": "2023-08-01T15:14:08.890415Z",
     "iopub.status.busy": "2023-08-01T15:14:08.889914Z",
     "iopub.status.idle": "2023-08-01T15:14:08.903021Z",
     "shell.execute_reply": "2023-08-01T15:14:08.901379Z"
    },
    "papermill": {
     "duration": 0.038494,
     "end_time": "2023-08-01T15:14:08.906418",
     "exception": false,
     "start_time": "2023-08-01T15:14:08.867924",
     "status": "completed"
    },
    "tags": []
   },
   "outputs": [
    {
     "data": {
      "text/plain": [
       "['model.joblib']"
      ]
     },
     "execution_count": 35,
     "metadata": {},
     "output_type": "execute_result"
    }
   ],
   "source": [
    "import joblib\n",
    "\n",
    "joblib.dump(grid_search.best_estimator_, 'model.joblib')"
   ]
  },
  {
   "cell_type": "code",
   "execution_count": 36,
   "id": "0020d02e",
   "metadata": {
    "execution": {
     "iopub.execute_input": "2023-08-01T15:14:08.952908Z",
     "iopub.status.busy": "2023-08-01T15:14:08.952466Z",
     "iopub.status.idle": "2023-08-01T15:14:08.962683Z",
     "shell.execute_reply": "2023-08-01T15:14:08.961520Z"
    },
    "papermill": {
     "duration": 0.036893,
     "end_time": "2023-08-01T15:14:08.965252",
     "exception": false,
     "start_time": "2023-08-01T15:14:08.928359",
     "status": "completed"
    },
    "tags": []
   },
   "outputs": [],
   "source": [
    "model = joblib.load('model.joblib')"
   ]
  },
  {
   "cell_type": "code",
   "execution_count": 37,
   "id": "3aae57ed",
   "metadata": {
    "execution": {
     "iopub.execute_input": "2023-08-01T15:14:09.009619Z",
     "iopub.status.busy": "2023-08-01T15:14:09.008326Z",
     "iopub.status.idle": "2023-08-01T15:14:09.030908Z",
     "shell.execute_reply": "2023-08-01T15:14:09.029079Z"
    },
    "papermill": {
     "duration": 0.048455,
     "end_time": "2023-08-01T15:14:09.034177",
     "exception": false,
     "start_time": "2023-08-01T15:14:08.985722",
     "status": "completed"
    },
    "tags": []
   },
   "outputs": [],
   "source": [
    "X_test = full_pipeline.fit_transform(test_df)"
   ]
  },
  {
   "cell_type": "code",
   "execution_count": 38,
   "id": "094af01e",
   "metadata": {
    "execution": {
     "iopub.execute_input": "2023-08-01T15:14:09.079334Z",
     "iopub.status.busy": "2023-08-01T15:14:09.078804Z",
     "iopub.status.idle": "2023-08-01T15:14:09.088184Z",
     "shell.execute_reply": "2023-08-01T15:14:09.086719Z"
    },
    "papermill": {
     "duration": 0.036331,
     "end_time": "2023-08-01T15:14:09.090776",
     "exception": false,
     "start_time": "2023-08-01T15:14:09.054445",
     "status": "completed"
    },
    "tags": []
   },
   "outputs": [
    {
     "data": {
      "text/plain": [
       "array([[ 0.87348191,  0.3349926 , -0.49840706, ...,  0.        ,\n",
       "         0.        ,  0.        ],\n",
       "       [ 0.87348191,  1.32553003, -0.51327429, ...,  0.        ,\n",
       "         0.        ,  1.        ],\n",
       "       [-0.31581919,  2.51417495, -0.46508846, ...,  0.        ,\n",
       "         0.        ,  0.        ],\n",
       "       ...,\n",
       "       [ 0.87348191,  0.65196458, -0.50879189, ...,  0.        ,\n",
       "         0.        ,  1.        ],\n",
       "       [ 0.87348191,  0.        , -0.4944482 , ...,  0.        ,\n",
       "         0.        ,  1.        ],\n",
       "       [ 0.87348191,  0.        , -0.23790598, ...,  0.        ,\n",
       "         0.        ,  0.        ]])"
      ]
     },
     "execution_count": 38,
     "metadata": {},
     "output_type": "execute_result"
    }
   ],
   "source": [
    "X_test"
   ]
  },
  {
   "cell_type": "code",
   "execution_count": 39,
   "id": "fe8963ca",
   "metadata": {
    "execution": {
     "iopub.execute_input": "2023-08-01T15:14:09.134163Z",
     "iopub.status.busy": "2023-08-01T15:14:09.133640Z",
     "iopub.status.idle": "2023-08-01T15:14:09.141868Z",
     "shell.execute_reply": "2023-08-01T15:14:09.140772Z"
    },
    "papermill": {
     "duration": 0.033052,
     "end_time": "2023-08-01T15:14:09.144600",
     "exception": false,
     "start_time": "2023-08-01T15:14:09.111548",
     "status": "completed"
    },
    "tags": []
   },
   "outputs": [
    {
     "data": {
      "text/plain": [
       "array([[ 0.82834714, -0.58934747, -0.50250163, ...,  0.        ,\n",
       "         0.        ,  1.        ],\n",
       "       [-1.56736273,  0.64461179,  0.78499672, ...,  0.        ,\n",
       "         0.        ,  0.        ],\n",
       "       [ 0.82834714, -0.28085765, -0.48892961, ...,  0.        ,\n",
       "         0.        ,  1.        ],\n",
       "       ...,\n",
       "       [ 0.82834714,  0.00442738, -0.17677309, ...,  0.        ,\n",
       "         0.        ,  1.        ],\n",
       "       [-1.56736273, -0.28085765, -0.04507421, ...,  0.        ,\n",
       "         0.        ,  0.        ],\n",
       "       [ 0.82834714,  0.18187707, -0.49244828, ...,  0.        ,\n",
       "         0.        ,  0.        ]])"
      ]
     },
     "execution_count": 39,
     "metadata": {},
     "output_type": "execute_result"
    }
   ],
   "source": [
    "X_train_prepared"
   ]
  },
  {
   "cell_type": "code",
   "execution_count": 40,
   "id": "12949e1b",
   "metadata": {
    "execution": {
     "iopub.execute_input": "2023-08-01T15:14:09.188517Z",
     "iopub.status.busy": "2023-08-01T15:14:09.187516Z",
     "iopub.status.idle": "2023-08-01T15:14:09.202344Z",
     "shell.execute_reply": "2023-08-01T15:14:09.200832Z"
    },
    "papermill": {
     "duration": 0.040065,
     "end_time": "2023-08-01T15:14:09.205255",
     "exception": false,
     "start_time": "2023-08-01T15:14:09.165190",
     "status": "completed"
    },
    "tags": []
   },
   "outputs": [
    {
     "name": "stdout",
     "output_type": "stream",
     "text": [
      "Your submission was successfully saved!\n"
     ]
    }
   ],
   "source": [
    "predictions = model.predict(X_test)\n",
    "\n",
    "output = pd.DataFrame({'PassengerId': test_df.PassengerId, 'Survived': predictions})\n",
    "output.to_csv('submission.csv', index=False)\n",
    "print(\"Your submission was successfully saved!\")"
   ]
  }
 ],
 "metadata": {
  "kernelspec": {
   "display_name": "Python 3",
   "language": "python",
   "name": "python3"
  },
  "language_info": {
   "codemirror_mode": {
    "name": "ipython",
    "version": 3
   },
   "file_extension": ".py",
   "mimetype": "text/x-python",
   "name": "python",
   "nbconvert_exporter": "python",
   "pygments_lexer": "ipython3",
   "version": "3.10.12"
  },
  "papermill": {
   "default_parameters": {},
   "duration": 778.092468,
   "end_time": "2023-08-01T15:14:10.858273",
   "environment_variables": {},
   "exception": null,
   "input_path": "__notebook__.ipynb",
   "output_path": "__notebook__.ipynb",
   "parameters": {},
   "start_time": "2023-08-01T15:01:12.765805",
   "version": "2.4.0"
  }
 },
 "nbformat": 4,
 "nbformat_minor": 5
}
