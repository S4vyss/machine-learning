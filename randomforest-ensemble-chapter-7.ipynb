{
 "cells": [
  {
   "cell_type": "code",
   "execution_count": 1,
   "id": "af18a2bf",
   "metadata": {
    "_cell_guid": "b1076dfc-b9ad-4769-8c92-a6c4dae69d19",
    "_uuid": "8f2839f25d086af736a60e9eeb907d3b93b6e0e5",
    "execution": {
     "iopub.execute_input": "2023-08-04T17:30:48.619520Z",
     "iopub.status.busy": "2023-08-04T17:30:48.619094Z",
     "iopub.status.idle": "2023-08-04T17:30:48.632310Z",
     "shell.execute_reply": "2023-08-04T17:30:48.630839Z"
    },
    "papermill": {
     "duration": 0.021056,
     "end_time": "2023-08-04T17:30:48.634941",
     "exception": false,
     "start_time": "2023-08-04T17:30:48.613885",
     "status": "completed"
    },
    "tags": []
   },
   "outputs": [],
   "source": [
    "# This Python 3 environment comes with many helpful analytics libraries installed\n",
    "# It is defined by the kaggle/python Docker image: https://github.com/kaggle/docker-python\n",
    "# For example, here's several helpful packages to load\n",
    "\n",
    "import numpy as np # linear algebra\n",
    "import pandas as pd # data processing, CSV file I/O (e.g. pd.read_csv)\n",
    "\n",
    "# Input data files are available in the read-only \"../input/\" directory\n",
    "# For example, running this (by clicking run or pressing Shift+Enter) will list all files under the input directory\n",
    "\n",
    "import os\n",
    "for dirname, _, filenames in os.walk('/kaggle/input'):\n",
    "    for filename in filenames:\n",
    "        print(os.path.join(dirname, filename))\n",
    "\n",
    "# You can write up to 20GB to the current directory (/kaggle/working/) that gets preserved as output when you create a version using \"Save & Run All\" \n",
    "# You can also write temporary files to /kaggle/temp/, but they won't be saved outside of the current session"
   ]
  },
  {
   "cell_type": "code",
   "execution_count": 2,
   "id": "2700dc64",
   "metadata": {
    "execution": {
     "iopub.execute_input": "2023-08-04T17:30:48.642653Z",
     "iopub.status.busy": "2023-08-04T17:30:48.642341Z",
     "iopub.status.idle": "2023-08-04T17:31:28.884335Z",
     "shell.execute_reply": "2023-08-04T17:31:28.883014Z"
    },
    "papermill": {
     "duration": 40.248932,
     "end_time": "2023-08-04T17:31:28.887195",
     "exception": false,
     "start_time": "2023-08-04T17:30:48.638263",
     "status": "completed"
    },
    "tags": []
   },
   "outputs": [
    {
     "name": "stderr",
     "output_type": "stream",
     "text": [
      "/opt/conda/lib/python3.10/site-packages/scipy/__init__.py:146: UserWarning: A NumPy version >=1.16.5 and <1.23.0 is required for this version of SciPy (detected version 1.23.5\n",
      "  warnings.warn(f\"A NumPy version >={np_minversion} and <{np_maxversion}\"\n",
      "/opt/conda/lib/python3.10/site-packages/sklearn/datasets/_openml.py:968: FutureWarning: The default value of `parser` will change from `'liac-arff'` to `'auto'` in 1.4. You can set `parser='auto'` to silence this warning. Therefore, an `ImportError` will be raised from 1.4 if the dataset is dense and pandas is not installed. Note that the pandas parser may return different data types. See the Notes Section in fetch_openml's API doc for details.\n",
      "  warn(\n"
     ]
    }
   ],
   "source": [
    "from sklearn.datasets import fetch_openml\n",
    "\n",
    "mnist = fetch_openml('mnist_784', version=1)"
   ]
  },
  {
   "cell_type": "code",
   "execution_count": 3,
   "id": "7d91970d",
   "metadata": {
    "execution": {
     "iopub.execute_input": "2023-08-04T17:31:28.895484Z",
     "iopub.status.busy": "2023-08-04T17:31:28.895103Z",
     "iopub.status.idle": "2023-08-04T17:31:28.904756Z",
     "shell.execute_reply": "2023-08-04T17:31:28.903222Z"
    },
    "papermill": {
     "duration": 0.016722,
     "end_time": "2023-08-04T17:31:28.907393",
     "exception": false,
     "start_time": "2023-08-04T17:31:28.890671",
     "status": "completed"
    },
    "tags": []
   },
   "outputs": [],
   "source": [
    "X = mnist[\"data\"]\n",
    "y = mnist[\"target\"].astype(np.uint8)\n",
    "\n",
    "X_train = X[:50000]\n",
    "y_train = y[:50000]\n",
    "X_test = X[50000:60000]\n",
    "y_test = y[50000:60000]\n",
    "X_valid = X[60000:]\n",
    "y_valid = y[60000:]"
   ]
  },
  {
   "cell_type": "code",
   "execution_count": 4,
   "id": "108f83f0",
   "metadata": {
    "execution": {
     "iopub.execute_input": "2023-08-04T17:31:28.915837Z",
     "iopub.status.busy": "2023-08-04T17:31:28.915459Z",
     "iopub.status.idle": "2023-08-04T17:33:54.888502Z",
     "shell.execute_reply": "2023-08-04T17:33:54.886801Z"
    },
    "papermill": {
     "duration": 145.980046,
     "end_time": "2023-08-04T17:33:54.890753",
     "exception": false,
     "start_time": "2023-08-04T17:31:28.910707",
     "status": "completed"
    },
    "tags": []
   },
   "outputs": [
    {
     "name": "stdout",
     "output_type": "stream",
     "text": [
      "RandomForestClassifier 0.968\n",
      "ExtraTreesClassifier 0.9703\n",
      "VotingClassifier 0.9691\n"
     ]
    }
   ],
   "source": [
    "from sklearn.ensemble import RandomForestClassifier, ExtraTreesClassifier, VotingClassifier\n",
    "from sklearn.metrics import accuracy_score\n",
    "\n",
    "rfc = RandomForestClassifier(n_estimators=100, random_state=42)\n",
    "etc = ExtraTreesClassifier(n_estimators=100, random_state=42)\n",
    "\n",
    "voting = VotingClassifier(\n",
    "    estimators=[('rfc', rfc), ('etc', etc)],\n",
    "    voting='hard'\n",
    ")\n",
    "\n",
    "for clf in (rfc, etc, voting):\n",
    "    clf.fit(X_train, y_train)\n",
    "    y_pred = clf.predict(X_valid)\n",
    "    print(clf.__class__.__name__, accuracy_score(y_valid, y_pred))"
   ]
  },
  {
   "cell_type": "code",
   "execution_count": 5,
   "id": "083bc7c9",
   "metadata": {
    "execution": {
     "iopub.execute_input": "2023-08-04T17:33:54.898921Z",
     "iopub.status.busy": "2023-08-04T17:33:54.898584Z",
     "iopub.status.idle": "2023-08-04T17:33:55.365660Z",
     "shell.execute_reply": "2023-08-04T17:33:55.363789Z"
    },
    "papermill": {
     "duration": 0.473995,
     "end_time": "2023-08-04T17:33:55.368095",
     "exception": false,
     "start_time": "2023-08-04T17:33:54.894100",
     "status": "completed"
    },
    "tags": []
   },
   "outputs": [
    {
     "data": {
      "text/plain": [
       "0.9743"
      ]
     },
     "execution_count": 5,
     "metadata": {},
     "output_type": "execute_result"
    }
   ],
   "source": [
    "y_pred = etc.predict(X_test)\n",
    "accuracy_score(y_test, y_pred)"
   ]
  },
  {
   "cell_type": "code",
   "execution_count": 6,
   "id": "4b7ca9dc",
   "metadata": {
    "execution": {
     "iopub.execute_input": "2023-08-04T17:33:55.376951Z",
     "iopub.status.busy": "2023-08-04T17:33:55.376547Z",
     "iopub.status.idle": "2023-08-04T17:33:56.231843Z",
     "shell.execute_reply": "2023-08-04T17:33:56.230382Z"
    },
    "papermill": {
     "duration": 0.862924,
     "end_time": "2023-08-04T17:33:56.234534",
     "exception": false,
     "start_time": "2023-08-04T17:33:55.371610",
     "status": "completed"
    },
    "tags": []
   },
   "outputs": [],
   "source": [
    "estimators = [rfc, etc]\n",
    "\n",
    "X_val_predictions = np.empty((len(X_valid), len(estimators)), dtype=np.float32)\n",
    "\n",
    "for index, estimator in enumerate(estimators):\n",
    "    X_val_predictions[:, index] = estimator.predict(X_valid)"
   ]
  },
  {
   "cell_type": "code",
   "execution_count": 7,
   "id": "80d9e98a",
   "metadata": {
    "execution": {
     "iopub.execute_input": "2023-08-04T17:33:56.243795Z",
     "iopub.status.busy": "2023-08-04T17:33:56.242812Z",
     "iopub.status.idle": "2023-08-04T17:33:56.251062Z",
     "shell.execute_reply": "2023-08-04T17:33:56.249615Z"
    },
    "papermill": {
     "duration": 0.015839,
     "end_time": "2023-08-04T17:33:56.254182",
     "exception": false,
     "start_time": "2023-08-04T17:33:56.238343",
     "status": "completed"
    },
    "tags": []
   },
   "outputs": [
    {
     "data": {
      "text/plain": [
       "array([[7., 7.],\n",
       "       [2., 2.],\n",
       "       [1., 1.],\n",
       "       ...,\n",
       "       [4., 4.],\n",
       "       [5., 5.],\n",
       "       [6., 6.]], dtype=float32)"
      ]
     },
     "execution_count": 7,
     "metadata": {},
     "output_type": "execute_result"
    }
   ],
   "source": [
    "X_val_predictions"
   ]
  },
  {
   "cell_type": "code",
   "execution_count": 8,
   "id": "511e9dc8",
   "metadata": {
    "execution": {
     "iopub.execute_input": "2023-08-04T17:33:56.263237Z",
     "iopub.status.busy": "2023-08-04T17:33:56.262823Z",
     "iopub.status.idle": "2023-08-04T17:33:56.757689Z",
     "shell.execute_reply": "2023-08-04T17:33:56.756476Z"
    },
    "papermill": {
     "duration": 0.502195,
     "end_time": "2023-08-04T17:33:56.760222",
     "exception": false,
     "start_time": "2023-08-04T17:33:56.258027",
     "status": "completed"
    },
    "tags": []
   },
   "outputs": [
    {
     "data": {
      "text/plain": [
       "0.9697"
      ]
     },
     "execution_count": 8,
     "metadata": {},
     "output_type": "execute_result"
    }
   ],
   "source": [
    "etc = ExtraTreesClassifier(n_estimators=100, random_state=42, oob_score=True, bootstrap=True)\n",
    "etc.fit(X_val_predictions, y_valid)\n",
    "etc.oob_score_"
   ]
  },
  {
   "cell_type": "code",
   "execution_count": 9,
   "id": "fdc9d0a3",
   "metadata": {
    "execution": {
     "iopub.execute_input": "2023-08-04T17:33:56.770481Z",
     "iopub.status.busy": "2023-08-04T17:33:56.770149Z",
     "iopub.status.idle": "2023-08-04T17:33:57.573024Z",
     "shell.execute_reply": "2023-08-04T17:33:57.571522Z"
    },
    "papermill": {
     "duration": 0.8118,
     "end_time": "2023-08-04T17:33:57.575714",
     "exception": false,
     "start_time": "2023-08-04T17:33:56.763914",
     "status": "completed"
    },
    "tags": []
   },
   "outputs": [],
   "source": [
    "X_test_predictions = np.empty((len(X_test), len(estimators)), dtype=np.float32)\n",
    "\n",
    "for index, estimator in enumerate(estimators):\n",
    "    X_test_predictions[:, index] = estimator.predict(X_test)"
   ]
  },
  {
   "cell_type": "code",
   "execution_count": 10,
   "id": "c1520a0b",
   "metadata": {
    "execution": {
     "iopub.execute_input": "2023-08-04T17:33:57.584676Z",
     "iopub.status.busy": "2023-08-04T17:33:57.584322Z",
     "iopub.status.idle": "2023-08-04T17:33:57.685936Z",
     "shell.execute_reply": "2023-08-04T17:33:57.684666Z"
    },
    "papermill": {
     "duration": 0.108745,
     "end_time": "2023-08-04T17:33:57.688169",
     "exception": false,
     "start_time": "2023-08-04T17:33:57.579424",
     "status": "completed"
    },
    "tags": []
   },
   "outputs": [],
   "source": [
    "y_pred = etc.predict(X_test_predictions)"
   ]
  },
  {
   "cell_type": "code",
   "execution_count": 11,
   "id": "a5eec0cf",
   "metadata": {
    "execution": {
     "iopub.execute_input": "2023-08-04T17:33:57.696853Z",
     "iopub.status.busy": "2023-08-04T17:33:57.696534Z",
     "iopub.status.idle": "2023-08-04T17:33:57.707414Z",
     "shell.execute_reply": "2023-08-04T17:33:57.705769Z"
    },
    "papermill": {
     "duration": 0.018116,
     "end_time": "2023-08-04T17:33:57.709838",
     "exception": false,
     "start_time": "2023-08-04T17:33:57.691722",
     "status": "completed"
    },
    "tags": []
   },
   "outputs": [
    {
     "data": {
      "text/plain": [
       "0.9741"
      ]
     },
     "execution_count": 11,
     "metadata": {},
     "output_type": "execute_result"
    }
   ],
   "source": [
    "accuracy_score(y_test, y_pred)"
   ]
  }
 ],
 "metadata": {
  "kernelspec": {
   "display_name": "Python 3",
   "language": "python",
   "name": "python3"
  },
  "language_info": {
   "codemirror_mode": {
    "name": "ipython",
    "version": 3
   },
   "file_extension": ".py",
   "mimetype": "text/x-python",
   "name": "python",
   "nbconvert_exporter": "python",
   "pygments_lexer": "ipython3",
   "version": "3.10.12"
  },
  "papermill": {
   "default_parameters": {},
   "duration": 199.384126,
   "end_time": "2023-08-04T17:33:58.837218",
   "environment_variables": {},
   "exception": null,
   "input_path": "__notebook__.ipynb",
   "output_path": "__notebook__.ipynb",
   "parameters": {},
   "start_time": "2023-08-04T17:30:39.453092",
   "version": "2.4.0"
  }
 },
 "nbformat": 4,
 "nbformat_minor": 5
}
