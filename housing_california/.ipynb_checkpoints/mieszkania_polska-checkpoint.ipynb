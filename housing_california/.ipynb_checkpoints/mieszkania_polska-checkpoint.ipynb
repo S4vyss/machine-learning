{
 "cells": [
  {
   "cell_type": "code",
   "execution_count": 1,
   "id": "1f678d77-38fd-4539-8ee6-e2448665881e",
   "metadata": {},
   "outputs": [
    {
     "data": {
      "text/html": [
       "<div>\n",
       "<style scoped>\n",
       "    .dataframe tbody tr th:only-of-type {\n",
       "        vertical-align: middle;\n",
       "    }\n",
       "\n",
       "    .dataframe tbody tr th {\n",
       "        vertical-align: top;\n",
       "    }\n",
       "\n",
       "    .dataframe thead th {\n",
       "        text-align: right;\n",
       "    }\n",
       "</style>\n",
       "<table border=\"1\" class=\"dataframe\">\n",
       "  <thead>\n",
       "    <tr style=\"text-align: right;\">\n",
       "      <th></th>\n",
       "      <th>address</th>\n",
       "      <th>city</th>\n",
       "      <th>floor</th>\n",
       "      <th>id</th>\n",
       "      <th>latitude</th>\n",
       "      <th>longitude</th>\n",
       "      <th>price</th>\n",
       "      <th>rooms</th>\n",
       "      <th>sq</th>\n",
       "      <th>year</th>\n",
       "    </tr>\n",
       "  </thead>\n",
       "  <tbody>\n",
       "    <tr>\n",
       "      <th>0</th>\n",
       "      <td>Podgórze Zab³ocie Stanis³awa Klimeckiego</td>\n",
       "      <td>Kraków</td>\n",
       "      <td>2.0</td>\n",
       "      <td>23918.0</td>\n",
       "      <td>50.049224</td>\n",
       "      <td>19.970379</td>\n",
       "      <td>749000.0</td>\n",
       "      <td>3.0</td>\n",
       "      <td>74.05</td>\n",
       "      <td>2021.0</td>\n",
       "    </tr>\n",
       "    <tr>\n",
       "      <th>1</th>\n",
       "      <td>Praga-Po³udnie Grochowska</td>\n",
       "      <td>Warszawa</td>\n",
       "      <td>3.0</td>\n",
       "      <td>17828.0</td>\n",
       "      <td>52.249775</td>\n",
       "      <td>21.106886</td>\n",
       "      <td>240548.0</td>\n",
       "      <td>1.0</td>\n",
       "      <td>24.38</td>\n",
       "      <td>2021.0</td>\n",
       "    </tr>\n",
       "    <tr>\n",
       "      <th>2</th>\n",
       "      <td>Krowodrza Czarnowiejska</td>\n",
       "      <td>Kraków</td>\n",
       "      <td>2.0</td>\n",
       "      <td>22784.0</td>\n",
       "      <td>50.066964</td>\n",
       "      <td>19.920025</td>\n",
       "      <td>427000.0</td>\n",
       "      <td>2.0</td>\n",
       "      <td>37.00</td>\n",
       "      <td>1970.0</td>\n",
       "    </tr>\n",
       "    <tr>\n",
       "      <th>3</th>\n",
       "      <td>Grunwald</td>\n",
       "      <td>Poznañ</td>\n",
       "      <td>2.0</td>\n",
       "      <td>4315.0</td>\n",
       "      <td>52.404212</td>\n",
       "      <td>16.882542</td>\n",
       "      <td>1290000.0</td>\n",
       "      <td>5.0</td>\n",
       "      <td>166.00</td>\n",
       "      <td>1935.0</td>\n",
       "    </tr>\n",
       "    <tr>\n",
       "      <th>4</th>\n",
       "      <td>Ochota Gotowy budynek. Stan deweloperski. Osta...</td>\n",
       "      <td>Warszawa</td>\n",
       "      <td>1.0</td>\n",
       "      <td>11770.0</td>\n",
       "      <td>52.212225</td>\n",
       "      <td>20.972630</td>\n",
       "      <td>996000.0</td>\n",
       "      <td>5.0</td>\n",
       "      <td>105.00</td>\n",
       "      <td>2020.0</td>\n",
       "    </tr>\n",
       "  </tbody>\n",
       "</table>\n",
       "</div>"
      ],
      "text/plain": [
       "                                             address      city  floor  \\\n",
       "0           Podgórze Zab³ocie Stanis³awa Klimeckiego    Kraków    2.0   \n",
       "1                          Praga-Po³udnie Grochowska  Warszawa    3.0   \n",
       "2                            Krowodrza Czarnowiejska    Kraków    2.0   \n",
       "3                                           Grunwald    Poznañ    2.0   \n",
       "4  Ochota Gotowy budynek. Stan deweloperski. Osta...  Warszawa    1.0   \n",
       "\n",
       "        id   latitude  longitude      price  rooms      sq    year  \n",
       "0  23918.0  50.049224  19.970379   749000.0    3.0   74.05  2021.0  \n",
       "1  17828.0  52.249775  21.106886   240548.0    1.0   24.38  2021.0  \n",
       "2  22784.0  50.066964  19.920025   427000.0    2.0   37.00  1970.0  \n",
       "3   4315.0  52.404212  16.882542  1290000.0    5.0  166.00  1935.0  \n",
       "4  11770.0  52.212225  20.972630   996000.0    5.0  105.00  2020.0  "
      ]
     },
     "execution_count": 1,
     "metadata": {},
     "output_type": "execute_result"
    }
   ],
   "source": [
    "import pandas as pd\n",
    "\n",
    "housing = pd.read_csv('zestawy danych/mieszkania_poland/Houses.csv', encoding='latin-1', index_col=0)\n",
    "housing = housing[housing['sq'] < 500]\n",
    "housing = housing[housing['price'] < 3000000]\n",
    "housing = housing[housing['year'] <= 2023]\n",
    "\n",
    "housing.head()"
   ]
  },
  {
   "cell_type": "code",
   "execution_count": 2,
   "id": "b57e21d4-2e01-45c0-b268-8f930118c02d",
   "metadata": {},
   "outputs": [
    {
     "name": "stdout",
     "output_type": "stream",
     "text": [
      "<class 'pandas.core.frame.DataFrame'>\n",
      "Index: 23585 entries, 0 to 23763\n",
      "Data columns (total 10 columns):\n",
      " #   Column     Non-Null Count  Dtype  \n",
      "---  ------     --------------  -----  \n",
      " 0   address    23585 non-null  object \n",
      " 1   city       23585 non-null  object \n",
      " 2   floor      23585 non-null  float64\n",
      " 3   id         23585 non-null  float64\n",
      " 4   latitude   23585 non-null  float64\n",
      " 5   longitude  23585 non-null  float64\n",
      " 6   price      23585 non-null  float64\n",
      " 7   rooms      23585 non-null  float64\n",
      " 8   sq         23585 non-null  float64\n",
      " 9   year       23585 non-null  float64\n",
      "dtypes: float64(8), object(2)\n",
      "memory usage: 2.0+ MB\n"
     ]
    }
   ],
   "source": [
    "housing.info()"
   ]
  },
  {
   "cell_type": "code",
   "execution_count": 3,
   "id": "eea7b236-27a5-4541-8577-78ecaa41d079",
   "metadata": {},
   "outputs": [
    {
     "data": {
      "text/plain": [
       "address\n",
       "Mokotów                                    422\n",
       "Wola                                       383\n",
       "Nowe Miasto Malta ul. Katowicka            377\n",
       "ródmiecie                                326\n",
       "Bia³o³êka                                  248\n",
       "                                          ... \n",
       "Wilda Saperska                               1\n",
       "Targówek Bródno ks. Piotra Skargi            1\n",
       "Wilanów Krzysztofa Kielowskiego             1\n",
       "Mokotów Dolny Mokotów ul. Konstanciñska      1\n",
       "Bemowo ul. Antoniego Kocjana                 1\n",
       "Name: count, Length: 5392, dtype: int64"
      ]
     },
     "execution_count": 3,
     "metadata": {},
     "output_type": "execute_result"
    }
   ],
   "source": [
    "housing['address'].value_counts()"
   ]
  },
  {
   "cell_type": "code",
   "execution_count": 4,
   "id": "5fe014da-a740-4e57-85e2-5349a4fab737",
   "metadata": {},
   "outputs": [
    {
     "data": {
      "text/html": [
       "<div>\n",
       "<style scoped>\n",
       "    .dataframe tbody tr th:only-of-type {\n",
       "        vertical-align: middle;\n",
       "    }\n",
       "\n",
       "    .dataframe tbody tr th {\n",
       "        vertical-align: top;\n",
       "    }\n",
       "\n",
       "    .dataframe thead th {\n",
       "        text-align: right;\n",
       "    }\n",
       "</style>\n",
       "<table border=\"1\" class=\"dataframe\">\n",
       "  <thead>\n",
       "    <tr style=\"text-align: right;\">\n",
       "      <th></th>\n",
       "      <th>floor</th>\n",
       "      <th>id</th>\n",
       "      <th>latitude</th>\n",
       "      <th>longitude</th>\n",
       "      <th>price</th>\n",
       "      <th>rooms</th>\n",
       "      <th>sq</th>\n",
       "      <th>year</th>\n",
       "    </tr>\n",
       "  </thead>\n",
       "  <tbody>\n",
       "    <tr>\n",
       "      <th>count</th>\n",
       "      <td>23585.0</td>\n",
       "      <td>23585.0</td>\n",
       "      <td>23585.0</td>\n",
       "      <td>23585.0</td>\n",
       "      <td>23585.0</td>\n",
       "      <td>23585.0</td>\n",
       "      <td>23585.0</td>\n",
       "      <td>23585.0</td>\n",
       "    </tr>\n",
       "    <tr>\n",
       "      <th>mean</th>\n",
       "      <td>3.0</td>\n",
       "      <td>15634.0</td>\n",
       "      <td>51.0</td>\n",
       "      <td>20.0</td>\n",
       "      <td>618309.0</td>\n",
       "      <td>3.0</td>\n",
       "      <td>59.0</td>\n",
       "      <td>2000.0</td>\n",
       "    </tr>\n",
       "    <tr>\n",
       "      <th>std</th>\n",
       "      <td>2.0</td>\n",
       "      <td>8630.0</td>\n",
       "      <td>1.0</td>\n",
       "      <td>1.0</td>\n",
       "      <td>356800.0</td>\n",
       "      <td>1.0</td>\n",
       "      <td>26.0</td>\n",
       "      <td>48.0</td>\n",
       "    </tr>\n",
       "    <tr>\n",
       "      <th>min</th>\n",
       "      <td>0.0</td>\n",
       "      <td>1.0</td>\n",
       "      <td>50.0</td>\n",
       "      <td>4.0</td>\n",
       "      <td>5000.0</td>\n",
       "      <td>1.0</td>\n",
       "      <td>9.0</td>\n",
       "      <td>70.0</td>\n",
       "    </tr>\n",
       "    <tr>\n",
       "      <th>25%</th>\n",
       "      <td>1.0</td>\n",
       "      <td>8398.0</td>\n",
       "      <td>50.0</td>\n",
       "      <td>20.0</td>\n",
       "      <td>410000.0</td>\n",
       "      <td>2.0</td>\n",
       "      <td>42.0</td>\n",
       "      <td>1985.0</td>\n",
       "    </tr>\n",
       "    <tr>\n",
       "      <th>50%</th>\n",
       "      <td>2.0</td>\n",
       "      <td>15706.0</td>\n",
       "      <td>52.0</td>\n",
       "      <td>20.0</td>\n",
       "      <td>520000.0</td>\n",
       "      <td>3.0</td>\n",
       "      <td>54.0</td>\n",
       "      <td>2019.0</td>\n",
       "    </tr>\n",
       "    <tr>\n",
       "      <th>75%</th>\n",
       "      <td>4.0</td>\n",
       "      <td>23134.0</td>\n",
       "      <td>52.0</td>\n",
       "      <td>21.0</td>\n",
       "      <td>697215.0</td>\n",
       "      <td>3.0</td>\n",
       "      <td>68.0</td>\n",
       "      <td>2021.0</td>\n",
       "    </tr>\n",
       "    <tr>\n",
       "      <th>max</th>\n",
       "      <td>10.0</td>\n",
       "      <td>30308.0</td>\n",
       "      <td>54.0</td>\n",
       "      <td>30.0</td>\n",
       "      <td>2995333.0</td>\n",
       "      <td>10.0</td>\n",
       "      <td>380.0</td>\n",
       "      <td>2023.0</td>\n",
       "    </tr>\n",
       "  </tbody>\n",
       "</table>\n",
       "</div>"
      ],
      "text/plain": [
       "         floor       id  latitude  longitude      price    rooms       sq  \\\n",
       "count  23585.0  23585.0   23585.0    23585.0    23585.0  23585.0  23585.0   \n",
       "mean       3.0  15634.0      51.0       20.0   618309.0      3.0     59.0   \n",
       "std        2.0   8630.0       1.0        1.0   356800.0      1.0     26.0   \n",
       "min        0.0      1.0      50.0        4.0     5000.0      1.0      9.0   \n",
       "25%        1.0   8398.0      50.0       20.0   410000.0      2.0     42.0   \n",
       "50%        2.0  15706.0      52.0       20.0   520000.0      3.0     54.0   \n",
       "75%        4.0  23134.0      52.0       21.0   697215.0      3.0     68.0   \n",
       "max       10.0  30308.0      54.0       30.0  2995333.0     10.0    380.0   \n",
       "\n",
       "          year  \n",
       "count  23585.0  \n",
       "mean    2000.0  \n",
       "std       48.0  \n",
       "min       70.0  \n",
       "25%     1985.0  \n",
       "50%     2019.0  \n",
       "75%     2021.0  \n",
       "max     2023.0  "
      ]
     },
     "execution_count": 4,
     "metadata": {},
     "output_type": "execute_result"
    }
   ],
   "source": [
    "summary = housing.describe()\n",
    "summary.round(0)"
   ]
  },
  {
   "cell_type": "code",
   "execution_count": 5,
   "id": "b96d7a5e-6139-46e1-beeb-acae9174a70a",
   "metadata": {},
   "outputs": [],
   "source": [
    "housing_max_price = housing['price'].idxmax()"
   ]
  },
  {
   "cell_type": "code",
   "execution_count": 6,
   "id": "7e6358e9-7e1c-463a-bab1-cb2d9dc9f0ce",
   "metadata": {},
   "outputs": [],
   "source": [
    "address_with_max_price = housing.loc[housing_max_price, 'address']"
   ]
  },
  {
   "cell_type": "code",
   "execution_count": 7,
   "id": "25d08f25-dd85-4fe5-8cfe-20465b09f4ec",
   "metadata": {},
   "outputs": [
    {
     "name": "stdout",
     "output_type": "stream",
     "text": [
      "Mokotów\n"
     ]
    }
   ],
   "source": [
    "print(address_with_max_price)"
   ]
  },
  {
   "cell_type": "code",
   "execution_count": 8,
   "id": "d79a2543-e028-488c-b9d9-792d6c1a9420",
   "metadata": {},
   "outputs": [
    {
     "data": {
      "text/plain": [
       "'Poznañ'"
      ]
     },
     "execution_count": 8,
     "metadata": {},
     "output_type": "execute_result"
    }
   ],
   "source": [
    "housing_max_sq = housing['sq'].idxmax()\n",
    "address_with_max_sq = housing.loc[housing_max_sq, 'city']\n",
    "address_with_max_sq"
   ]
  },
  {
   "cell_type": "code",
   "execution_count": null,
   "id": "e233555c-9b63-4173-9e43-983a463d3b80",
   "metadata": {},
   "outputs": [],
   "source": [
    "%matplotlib inline\n",
    "import matplotlib.pyplot as plt\n",
    "\n",
    "housing.hist(bins=50, figsize=(20, 15))\n",
    "plt.show()"
   ]
  },
  {
   "cell_type": "code",
   "execution_count": null,
   "id": "e43abfd9-5151-4d34-b923-c3ddc4369ff3",
   "metadata": {},
   "outputs": [],
   "source": [
    "from sklearn.model_selection import train_test_split\n",
    "\n",
    "train_set, test_set = train_test_split(housing, test_size=0.2, random_state=42)"
   ]
  },
  {
   "cell_type": "code",
   "execution_count": null,
   "id": "643d2a32-cdd1-4db3-8cfc-cf6adac9b95b",
   "metadata": {},
   "outputs": [],
   "source": [
    "housing.plot(kind=\"scatter\", x=\"longitude\", y=\"latitude\", alpha=0.1)"
   ]
  },
  {
   "cell_type": "code",
   "execution_count": null,
   "id": "87084805-80d2-48be-aaed-fd25fd0cbdfa",
   "metadata": {},
   "outputs": [],
   "source": [
    "from pandas.plotting import scatter_matrix\n",
    "\n",
    "attributes = ['price', 'sq', 'rooms', 'year']\n",
    "\n",
    "scatter_matrix(housing[attributes], figsize=(12, 8))"
   ]
  },
  {
   "cell_type": "code",
   "execution_count": null,
   "id": "20d28890-47dd-43a6-9709-a0cfb7f03fb3",
   "metadata": {},
   "outputs": [],
   "source": []
  }
 ],
 "metadata": {
  "kernelspec": {
   "display_name": "Python 3 (ipykernel)",
   "language": "python",
   "name": "python3"
  },
  "language_info": {
   "codemirror_mode": {
    "name": "ipython",
    "version": 3
   },
   "file_extension": ".py",
   "mimetype": "text/x-python",
   "name": "python",
   "nbconvert_exporter": "python",
   "pygments_lexer": "ipython3",
   "version": "3.10.7"
  }
 },
 "nbformat": 4,
 "nbformat_minor": 5
}
